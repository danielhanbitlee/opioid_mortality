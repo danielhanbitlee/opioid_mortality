{
 "cells": [
  {
   "cell_type": "markdown",
   "metadata": {},
   "source": [
    "# Capstone Mini-Project: Data Wrangling"
   ]
  },
  {
   "cell_type": "markdown",
   "metadata": {},
   "source": [
    "### Daniel Lee\n",
    "### June 29, 2018"
   ]
  },
  {
   "cell_type": "markdown",
   "metadata": {},
   "source": [
    "For the data wrangling portion, I divided my work into the following steps. For the first nine steps, I am reading in and cleaning the nine different datasets from 2016 county level data found from the web. In the tenth step, I combine the nine datasets together. In the eleventh step, I obtain mortality data caused by opioid overdose from 1999 - 2016 (not county level) with categories gender, ethnicity, and age-group.\n",
    "\n",
    "1. prescription_rates: opioid prescription rates\n",
    "2. education\n",
    "3. population\n",
    "4. poverty\n",
    "5. unemployment\n",
    "6. death rates from drug overdose\n",
    "7. overall death rates\n",
    "* county level race data\n",
    "* county level age data\n",
    "8. merge seven datasets together\n",
    "9. Mortality rates from opioid overdose 1999 - 2016 (gender, ethnicity, age-group information included)"
   ]
  },
  {
   "cell_type": "code",
   "execution_count": 2,
   "metadata": {},
   "outputs": [],
   "source": [
    "import pandas as pd\n",
    "import numpy as np\n",
    "import requests\n",
    "import re\n",
    "from bs4 import BeautifulSoup"
   ]
  },
  {
   "cell_type": "markdown",
   "metadata": {},
   "source": [
    "## 1. Opioid Prescription Rates"
   ]
  },
  {
   "cell_type": "code",
   "execution_count": 2,
   "metadata": {},
   "outputs": [],
   "source": [
    "# scrape prescription data from internet using BeautifulSoup\n",
    "url = 'https://www.cdc.gov/drugoverdose/maps/rxcounty2016.html'\n",
    "r = requests.get(url)\n",
    "r.status_code\n",
    "soup = BeautifulSoup(r.content, \"html.parser\")\n",
    "stat_table = soup.find_all('table', class_ = 'table table-striped')\n",
    "stat_table = stat_table[0]\n",
    "\n",
    "# write the table into a txt with context manager\n",
    "with open ('prescribing_stats.txt', 'w') as r:\n",
    "    for row in stat_table.find_all('tr'): # find all rows in the table\n",
    "        for cell in row.find_all('td'):\n",
    "            r.write(cell.text.ljust(30))\n",
    "        r.write('\\n')"
   ]
  },
  {
   "cell_type": "code",
   "execution_count": 3,
   "metadata": {},
   "outputs": [],
   "source": [
    "# read in the prescription data into a pandas df\n",
    "prescription_rates = pd.read_csv('prescribing_stats.txt', delimiter = r\"[ \\t]{2,}\", header = None, engine = 'python', na_values = '–')\n",
    "prescription_rates.columns = ['county', 'state', 'county_code', 'opioid_prescription_rate']"
   ]
  },
  {
   "cell_type": "code",
   "execution_count": 4,
   "metadata": {},
   "outputs": [
    {
     "data": {
      "text/html": [
       "<div>\n",
       "<style scoped>\n",
       "    .dataframe tbody tr th:only-of-type {\n",
       "        vertical-align: middle;\n",
       "    }\n",
       "\n",
       "    .dataframe tbody tr th {\n",
       "        vertical-align: top;\n",
       "    }\n",
       "\n",
       "    .dataframe thead th {\n",
       "        text-align: right;\n",
       "    }\n",
       "</style>\n",
       "<table border=\"1\" class=\"dataframe\">\n",
       "  <thead>\n",
       "    <tr style=\"text-align: right;\">\n",
       "      <th></th>\n",
       "      <th>county</th>\n",
       "      <th>state</th>\n",
       "      <th>county_code</th>\n",
       "      <th>opioid_prescription_rate</th>\n",
       "    </tr>\n",
       "  </thead>\n",
       "  <tbody>\n",
       "    <tr>\n",
       "      <th>0</th>\n",
       "      <td>Aleutians East, AK</td>\n",
       "      <td>AK</td>\n",
       "      <td>2013</td>\n",
       "      <td>NaN</td>\n",
       "    </tr>\n",
       "    <tr>\n",
       "      <th>1</th>\n",
       "      <td>Aleutians West, AK</td>\n",
       "      <td>AK</td>\n",
       "      <td>2016</td>\n",
       "      <td>NaN</td>\n",
       "    </tr>\n",
       "    <tr>\n",
       "      <th>2</th>\n",
       "      <td>Anchorage, AK</td>\n",
       "      <td>AK</td>\n",
       "      <td>2020</td>\n",
       "      <td>66.3</td>\n",
       "    </tr>\n",
       "    <tr>\n",
       "      <th>3</th>\n",
       "      <td>Bethel, AK</td>\n",
       "      <td>AK</td>\n",
       "      <td>2050</td>\n",
       "      <td>NaN</td>\n",
       "    </tr>\n",
       "    <tr>\n",
       "      <th>4</th>\n",
       "      <td>Bristol Bay, AK</td>\n",
       "      <td>AK</td>\n",
       "      <td>2060</td>\n",
       "      <td>NaN</td>\n",
       "    </tr>\n",
       "  </tbody>\n",
       "</table>\n",
       "</div>"
      ],
      "text/plain": [
       "               county state  county_code  opioid_prescription_rate\n",
       "0  Aleutians East, AK    AK         2013                       NaN\n",
       "1  Aleutians West, AK    AK         2016                       NaN\n",
       "2       Anchorage, AK    AK         2020                      66.3\n",
       "3          Bethel, AK    AK         2050                       NaN\n",
       "4     Bristol Bay, AK    AK         2060                       NaN"
      ]
     },
     "execution_count": 4,
     "metadata": {},
     "output_type": "execute_result"
    }
   ],
   "source": [
    "prescription_rates.head()"
   ]
  },
  {
   "cell_type": "code",
   "execution_count": 5,
   "metadata": {},
   "outputs": [
    {
     "name": "stdout",
     "output_type": "stream",
     "text": [
      "<class 'pandas.core.frame.DataFrame'>\n",
      "RangeIndex: 3143 entries, 0 to 3142\n",
      "Data columns (total 4 columns):\n",
      "county                      3143 non-null object\n",
      "state                       3143 non-null object\n",
      "county_code                 3143 non-null int64\n",
      "opioid_prescription_rate    2962 non-null float64\n",
      "dtypes: float64(1), int64(1), object(2)\n",
      "memory usage: 98.3+ KB\n"
     ]
    }
   ],
   "source": [
    "prescription_rates.info()"
   ]
  },
  {
   "cell_type": "code",
   "execution_count": 6,
   "metadata": {},
   "outputs": [],
   "source": [
    "# remove null prescription_rates values from prescription_rates (2962/3143 non-null values)\n",
    "prescription_rates_no_na = prescription_rates.loc[prescription_rates.opioid_prescription_rate.notnull(), :]"
   ]
  },
  {
   "cell_type": "code",
   "execution_count": 7,
   "metadata": {
    "scrolled": true
   },
   "outputs": [
    {
     "name": "stdout",
     "output_type": "stream",
     "text": [
      "<class 'pandas.core.frame.DataFrame'>\n",
      "Int64Index: 2962 entries, 2 to 3142\n",
      "Data columns (total 4 columns):\n",
      "county                      2962 non-null object\n",
      "state                       2962 non-null object\n",
      "county_code                 2962 non-null int64\n",
      "opioid_prescription_rate    2962 non-null float64\n",
      "dtypes: float64(1), int64(1), object(2)\n",
      "memory usage: 115.7+ KB\n"
     ]
    }
   ],
   "source": [
    "prescription_rates_no_na.info()"
   ]
  },
  {
   "cell_type": "markdown",
   "metadata": {},
   "source": [
    "## 2. Education"
   ]
  },
  {
   "cell_type": "code",
   "execution_count": 8,
   "metadata": {},
   "outputs": [
    {
     "name": "stdout",
     "output_type": "stream",
     "text": [
      "  % Total    % Received % Xferd  Average Speed   Time    Time     Time  Current\n",
      "                                 Dload  Upload   Total   Spent    Left  Speed\n",
      "100 1529k  100 1529k    0     0   461k      0  0:00:03  0:00:03 --:--:--  461k\n"
     ]
    }
   ],
   "source": [
    "# download data using bash command curl\n",
    "!curl -O -J https://www.ers.usda.gov/webdocs/DataFiles/48747/Education.xls?v=43125"
   ]
  },
  {
   "cell_type": "code",
   "execution_count": 9,
   "metadata": {
    "scrolled": true
   },
   "outputs": [],
   "source": [
    "# change name of downloaded file using bash command mv\n",
    "!mv Education.xls?v=43125 education.xls"
   ]
  },
  {
   "cell_type": "code",
   "execution_count": 10,
   "metadata": {
    "scrolled": true
   },
   "outputs": [
    {
     "data": {
      "text/plain": [
       "['Education 1970 to 2016']"
      ]
     },
     "execution_count": 10,
     "metadata": {},
     "output_type": "execute_result"
    }
   ],
   "source": [
    "# load education data from Excel file\n",
    "xl = pd.ExcelFile('education.xls')\n",
    "xl.sheet_names"
   ]
  },
  {
   "cell_type": "code",
   "execution_count": 11,
   "metadata": {},
   "outputs": [],
   "source": [
    "# load a sheet into a pandas df by index\n",
    "education = xl.parse(0, skiprows = 4)\n",
    "\n",
    "# select columns that only contain relevant data for 2016\n",
    "education = education[list(education.columns[:3]) + [column for column in education.columns if '2016' in column]]"
   ]
  },
  {
   "cell_type": "code",
   "execution_count": 12,
   "metadata": {},
   "outputs": [
    {
     "name": "stdout",
     "output_type": "stream",
     "text": [
      "<class 'pandas.core.frame.DataFrame'>\n",
      "RangeIndex: 3283 entries, 0 to 3282\n",
      "Data columns (total 11 columns):\n",
      "FIPS Code                                                                     3283 non-null int64\n",
      "State                                                                         3283 non-null object\n",
      "Area name                                                                     3283 non-null object\n",
      "Less than a high school diploma, 2012-2016                                    3273 non-null float64\n",
      "High school diploma only, 2012-2016                                           3273 non-null float64\n",
      "Some college or associate's degree, 2012-2016                                 3273 non-null float64\n",
      "Bachelor's degree or higher, 2012-2016                                        3273 non-null float64\n",
      "Percent of adults with less than a high school diploma, 2012-2016             3273 non-null float64\n",
      "Percent of adults with a high school diploma only, 2012-2016                  3273 non-null float64\n",
      "Percent of adults completing some college or associate's degree, 2012-2016    3273 non-null float64\n",
      "Percent of adults with a bachelor's degree or higher, 2012-2016               3273 non-null float64\n",
      "dtypes: float64(8), int64(1), object(2)\n",
      "memory usage: 282.2+ KB\n"
     ]
    }
   ],
   "source": [
    "education.info()"
   ]
  },
  {
   "cell_type": "code",
   "execution_count": 13,
   "metadata": {},
   "outputs": [],
   "source": [
    "# drop all na values (3273/3283 non null values)\n",
    "education_no_na = education.dropna(how = 'any')"
   ]
  },
  {
   "cell_type": "code",
   "execution_count": 14,
   "metadata": {},
   "outputs": [
    {
     "name": "stdout",
     "output_type": "stream",
     "text": [
      "<class 'pandas.core.frame.DataFrame'>\n",
      "Int64Index: 3273 entries, 0 to 3282\n",
      "Data columns (total 11 columns):\n",
      "FIPS Code                                                                     3273 non-null int64\n",
      "State                                                                         3273 non-null object\n",
      "Area name                                                                     3273 non-null object\n",
      "Less than a high school diploma, 2012-2016                                    3273 non-null float64\n",
      "High school diploma only, 2012-2016                                           3273 non-null float64\n",
      "Some college or associate's degree, 2012-2016                                 3273 non-null float64\n",
      "Bachelor's degree or higher, 2012-2016                                        3273 non-null float64\n",
      "Percent of adults with less than a high school diploma, 2012-2016             3273 non-null float64\n",
      "Percent of adults with a high school diploma only, 2012-2016                  3273 non-null float64\n",
      "Percent of adults completing some college or associate's degree, 2012-2016    3273 non-null float64\n",
      "Percent of adults with a bachelor's degree or higher, 2012-2016               3273 non-null float64\n",
      "dtypes: float64(8), int64(1), object(2)\n",
      "memory usage: 306.8+ KB\n"
     ]
    }
   ],
   "source": [
    "education_no_na.info()"
   ]
  },
  {
   "cell_type": "markdown",
   "metadata": {},
   "source": [
    "## 3. Population"
   ]
  },
  {
   "cell_type": "code",
   "execution_count": 15,
   "metadata": {},
   "outputs": [
    {
     "name": "stdout",
     "output_type": "stream",
     "text": [
      "  % Total    % Received % Xferd  Average Speed   Time    Time     Time  Current\n",
      "                                 Dload  Upload   Total   Spent    Left  Speed\n",
      "100 4382k  100 4382k    0     0   677k      0  0:00:06  0:00:06 --:--:--  758k\n"
     ]
    }
   ],
   "source": [
    "# download data using bash command curl\n",
    "!curl -O -J https://www.ers.usda.gov/webdocs/DataFiles/48747/PopulationEstimates.xls?v=43209"
   ]
  },
  {
   "cell_type": "code",
   "execution_count": 16,
   "metadata": {},
   "outputs": [],
   "source": [
    "# rename the downloaded file to education.xls using bash command mv\n",
    "!mv PopulationEstimates.xls?v=43209 population.xls"
   ]
  },
  {
   "cell_type": "code",
   "execution_count": 17,
   "metadata": {},
   "outputs": [
    {
     "data": {
      "text/plain": [
       "['Population Estimates 2010-17', 'Variable Descriptions']"
      ]
     },
     "execution_count": 17,
     "metadata": {},
     "output_type": "execute_result"
    }
   ],
   "source": [
    "# load population information from Excel file\n",
    "xl = pd.ExcelFile('population.xls')\n",
    "xl.sheet_names"
   ]
  },
  {
   "cell_type": "code",
   "execution_count": 18,
   "metadata": {},
   "outputs": [],
   "source": [
    "# load a sheet into a pandas df by index \n",
    "population = xl.parse(0, skiprows = 2)\n",
    "\n",
    "# select columns that only contain relevant data for 2016\n",
    "population = population[list(population.columns[:3]) + [column for column in population.columns if '2016' in column]]"
   ]
  },
  {
   "cell_type": "code",
   "execution_count": 19,
   "metadata": {
    "scrolled": true
   },
   "outputs": [
    {
     "name": "stdout",
     "output_type": "stream",
     "text": [
      "<class 'pandas.core.frame.DataFrame'>\n",
      "RangeIndex: 3273 entries, 0 to 3272\n",
      "Data columns (total 19 columns):\n",
      "FIPS                        3273 non-null int64\n",
      "State                       3273 non-null object\n",
      "Area_Name                   3273 non-null object\n",
      "POP_ESTIMATE_2016           3273 non-null int64\n",
      "N_POP_CHG_2016              3194 non-null float64\n",
      "Births_2016                 3194 non-null float64\n",
      "Deaths_2016                 3194 non-null float64\n",
      "NATURAL_INC_2016            3194 non-null float64\n",
      "INTERNATIONAL_MIG_2016      3194 non-null float64\n",
      "DOMESTIC_MIG_2016           3194 non-null float64\n",
      "NET_MIG_2016                3194 non-null float64\n",
      "RESIDUAL_2016               3194 non-null float64\n",
      "GQ_ESTIMATES_2016           3193 non-null float64\n",
      "R_birth_2016                3194 non-null float64\n",
      "R_death_2016                3194 non-null float64\n",
      "R_NATURAL_INC_2016          3194 non-null float64\n",
      "R_INTERNATIONAL_MIG_2016    3194 non-null float64\n",
      "R_DOMESTIC_MIG_2016         3194 non-null float64\n",
      "R_NET_MIG_2016              3194 non-null float64\n",
      "dtypes: float64(15), int64(2), object(2)\n",
      "memory usage: 485.9+ KB\n"
     ]
    }
   ],
   "source": [
    "population.info()"
   ]
  },
  {
   "cell_type": "code",
   "execution_count": 20,
   "metadata": {},
   "outputs": [],
   "source": [
    "# drop all na values (3273/3283 non null values)\n",
    "pop_2016_no_na = population.dropna(how = 'any')"
   ]
  },
  {
   "cell_type": "code",
   "execution_count": 21,
   "metadata": {},
   "outputs": [
    {
     "data": {
      "text/html": [
       "<div>\n",
       "<style scoped>\n",
       "    .dataframe tbody tr th:only-of-type {\n",
       "        vertical-align: middle;\n",
       "    }\n",
       "\n",
       "    .dataframe tbody tr th {\n",
       "        vertical-align: top;\n",
       "    }\n",
       "\n",
       "    .dataframe thead th {\n",
       "        text-align: right;\n",
       "    }\n",
       "</style>\n",
       "<table border=\"1\" class=\"dataframe\">\n",
       "  <thead>\n",
       "    <tr style=\"text-align: right;\">\n",
       "      <th></th>\n",
       "      <th>FIPS</th>\n",
       "      <th>State</th>\n",
       "      <th>Area_Name</th>\n",
       "      <th>POP_ESTIMATE_2016</th>\n",
       "      <th>N_POP_CHG_2016</th>\n",
       "      <th>Births_2016</th>\n",
       "      <th>Deaths_2016</th>\n",
       "      <th>NATURAL_INC_2016</th>\n",
       "      <th>INTERNATIONAL_MIG_2016</th>\n",
       "      <th>DOMESTIC_MIG_2016</th>\n",
       "      <th>NET_MIG_2016</th>\n",
       "      <th>RESIDUAL_2016</th>\n",
       "      <th>GQ_ESTIMATES_2016</th>\n",
       "      <th>R_birth_2016</th>\n",
       "      <th>R_death_2016</th>\n",
       "      <th>R_NATURAL_INC_2016</th>\n",
       "      <th>R_INTERNATIONAL_MIG_2016</th>\n",
       "      <th>R_DOMESTIC_MIG_2016</th>\n",
       "      <th>R_NET_MIG_2016</th>\n",
       "    </tr>\n",
       "  </thead>\n",
       "  <tbody>\n",
       "    <tr>\n",
       "      <th>1</th>\n",
       "      <td>1000</td>\n",
       "      <td>AL</td>\n",
       "      <td>Alabama</td>\n",
       "      <td>4860545</td>\n",
       "      <td>9687.0</td>\n",
       "      <td>59095.0</td>\n",
       "      <td>52077.0</td>\n",
       "      <td>7018.0</td>\n",
       "      <td>4678.0</td>\n",
       "      <td>-1964.0</td>\n",
       "      <td>2714.0</td>\n",
       "      <td>-45.0</td>\n",
       "      <td>118989.0</td>\n",
       "      <td>12.170229</td>\n",
       "      <td>10.724918</td>\n",
       "      <td>1.445311</td>\n",
       "      <td>0.963404</td>\n",
       "      <td>-0.404473</td>\n",
       "      <td>0.558931</td>\n",
       "    </tr>\n",
       "    <tr>\n",
       "      <th>2</th>\n",
       "      <td>1001</td>\n",
       "      <td>AL</td>\n",
       "      <td>Autauga County</td>\n",
       "      <td>55278</td>\n",
       "      <td>440.0</td>\n",
       "      <td>666.0</td>\n",
       "      <td>505.0</td>\n",
       "      <td>161.0</td>\n",
       "      <td>15.0</td>\n",
       "      <td>266.0</td>\n",
       "      <td>281.0</td>\n",
       "      <td>-2.0</td>\n",
       "      <td>455.0</td>\n",
       "      <td>12.096335</td>\n",
       "      <td>9.172146</td>\n",
       "      <td>2.924189</td>\n",
       "      <td>0.272440</td>\n",
       "      <td>4.831269</td>\n",
       "      <td>5.103709</td>\n",
       "    </tr>\n",
       "    <tr>\n",
       "      <th>3</th>\n",
       "      <td>1003</td>\n",
       "      <td>AL</td>\n",
       "      <td>Baldwin County</td>\n",
       "      <td>207509</td>\n",
       "      <td>4646.0</td>\n",
       "      <td>2312.0</td>\n",
       "      <td>2045.0</td>\n",
       "      <td>267.0</td>\n",
       "      <td>169.0</td>\n",
       "      <td>4205.0</td>\n",
       "      <td>4374.0</td>\n",
       "      <td>5.0</td>\n",
       "      <td>2275.0</td>\n",
       "      <td>11.267825</td>\n",
       "      <td>9.966567</td>\n",
       "      <td>1.301258</td>\n",
       "      <td>0.823643</td>\n",
       "      <td>20.493601</td>\n",
       "      <td>21.317244</td>\n",
       "    </tr>\n",
       "    <tr>\n",
       "      <th>4</th>\n",
       "      <td>1005</td>\n",
       "      <td>AL</td>\n",
       "      <td>Barbour County</td>\n",
       "      <td>25774</td>\n",
       "      <td>-490.0</td>\n",
       "      <td>272.0</td>\n",
       "      <td>269.0</td>\n",
       "      <td>3.0</td>\n",
       "      <td>-5.0</td>\n",
       "      <td>-488.0</td>\n",
       "      <td>-493.0</td>\n",
       "      <td>0.0</td>\n",
       "      <td>2977.0</td>\n",
       "      <td>10.453899</td>\n",
       "      <td>10.338599</td>\n",
       "      <td>0.115300</td>\n",
       "      <td>-0.192167</td>\n",
       "      <td>-18.755525</td>\n",
       "      <td>-18.947692</td>\n",
       "    </tr>\n",
       "    <tr>\n",
       "      <th>5</th>\n",
       "      <td>1007</td>\n",
       "      <td>AL</td>\n",
       "      <td>Bibb County</td>\n",
       "      <td>22633</td>\n",
       "      <td>72.0</td>\n",
       "      <td>290.0</td>\n",
       "      <td>207.0</td>\n",
       "      <td>83.0</td>\n",
       "      <td>20.0</td>\n",
       "      <td>-32.0</td>\n",
       "      <td>-12.0</td>\n",
       "      <td>1.0</td>\n",
       "      <td>2201.0</td>\n",
       "      <td>12.833562</td>\n",
       "      <td>9.160508</td>\n",
       "      <td>3.673054</td>\n",
       "      <td>0.885073</td>\n",
       "      <td>-1.416117</td>\n",
       "      <td>-0.531044</td>\n",
       "    </tr>\n",
       "  </tbody>\n",
       "</table>\n",
       "</div>"
      ],
      "text/plain": [
       "   FIPS State       Area_Name  POP_ESTIMATE_2016  N_POP_CHG_2016  Births_2016  \\\n",
       "1  1000    AL         Alabama            4860545          9687.0      59095.0   \n",
       "2  1001    AL  Autauga County              55278           440.0        666.0   \n",
       "3  1003    AL  Baldwin County             207509          4646.0       2312.0   \n",
       "4  1005    AL  Barbour County              25774          -490.0        272.0   \n",
       "5  1007    AL     Bibb County              22633            72.0        290.0   \n",
       "\n",
       "   Deaths_2016  NATURAL_INC_2016  INTERNATIONAL_MIG_2016  DOMESTIC_MIG_2016  \\\n",
       "1      52077.0            7018.0                  4678.0            -1964.0   \n",
       "2        505.0             161.0                    15.0              266.0   \n",
       "3       2045.0             267.0                   169.0             4205.0   \n",
       "4        269.0               3.0                    -5.0             -488.0   \n",
       "5        207.0              83.0                    20.0              -32.0   \n",
       "\n",
       "   NET_MIG_2016  RESIDUAL_2016  GQ_ESTIMATES_2016  R_birth_2016  R_death_2016  \\\n",
       "1        2714.0          -45.0           118989.0     12.170229     10.724918   \n",
       "2         281.0           -2.0              455.0     12.096335      9.172146   \n",
       "3        4374.0            5.0             2275.0     11.267825      9.966567   \n",
       "4        -493.0            0.0             2977.0     10.453899     10.338599   \n",
       "5         -12.0            1.0             2201.0     12.833562      9.160508   \n",
       "\n",
       "   R_NATURAL_INC_2016  R_INTERNATIONAL_MIG_2016  R_DOMESTIC_MIG_2016  \\\n",
       "1            1.445311                  0.963404            -0.404473   \n",
       "2            2.924189                  0.272440             4.831269   \n",
       "3            1.301258                  0.823643            20.493601   \n",
       "4            0.115300                 -0.192167           -18.755525   \n",
       "5            3.673054                  0.885073            -1.416117   \n",
       "\n",
       "   R_NET_MIG_2016  \n",
       "1        0.558931  \n",
       "2        5.103709  \n",
       "3       21.317244  \n",
       "4      -18.947692  \n",
       "5       -0.531044  "
      ]
     },
     "execution_count": 21,
     "metadata": {},
     "output_type": "execute_result"
    }
   ],
   "source": [
    "pop_2016_no_na.head()"
   ]
  },
  {
   "cell_type": "markdown",
   "metadata": {},
   "source": [
    "## 4. Poverty Estimates"
   ]
  },
  {
   "cell_type": "code",
   "execution_count": 22,
   "metadata": {},
   "outputs": [
    {
     "name": "stdout",
     "output_type": "stream",
     "text": [
      "  % Total    % Received % Xferd  Average Speed   Time    Time     Time  Current\n",
      "                                 Dload  Upload   Total   Spent    Left  Speed\n",
      "100  876k  100  876k    0     0   342k      0  0:00:02  0:00:02 --:--:--  342k\n"
     ]
    }
   ],
   "source": [
    "# download data using bash command curl\n",
    "!curl -O -J https://www.ers.usda.gov/webdocs/DataFiles/48747/PovertyEstimates.xls?v=43125"
   ]
  },
  {
   "cell_type": "code",
   "execution_count": 23,
   "metadata": {},
   "outputs": [],
   "source": [
    "# rename the downloaded file to education.xls\n",
    "!mv PovertyEstimates.xls?v=43125 poverty.xls"
   ]
  },
  {
   "cell_type": "code",
   "execution_count": 24,
   "metadata": {},
   "outputs": [
    {
     "data": {
      "text/plain": [
       "['Poverty Data 2016', 'Variable Descriptions']"
      ]
     },
     "execution_count": 24,
     "metadata": {},
     "output_type": "execute_result"
    }
   ],
   "source": [
    "# load poverty estimate data from Excel file\n",
    "xl = pd.ExcelFile('poverty.xls')\n",
    "xl.sheet_names"
   ]
  },
  {
   "cell_type": "code",
   "execution_count": 25,
   "metadata": {},
   "outputs": [],
   "source": [
    "# load a sheet into a pandas df by index \n",
    "poverty = xl.parse(0, skiprows = 3)"
   ]
  },
  {
   "cell_type": "code",
   "execution_count": 26,
   "metadata": {},
   "outputs": [],
   "source": [
    "# select columns that only contain relevant data for 2016\n",
    "poverty = poverty[list(poverty.columns[:3]) + [column for column in poverty.columns if '2016' in column]]"
   ]
  },
  {
   "cell_type": "code",
   "execution_count": 27,
   "metadata": {},
   "outputs": [
    {
     "name": "stdout",
     "output_type": "stream",
     "text": [
      "<class 'pandas.core.frame.DataFrame'>\n",
      "RangeIndex: 3194 entries, 0 to 3193\n",
      "Data columns (total 30 columns):\n",
      "FIPStxt            3194 non-null int64\n",
      "State              3194 non-null object\n",
      "Area_Name          3194 non-null object\n",
      "POVALL_2016        3193 non-null float64\n",
      "CI90LBAll_2016     3193 non-null float64\n",
      "CI90UBALL_2016     3193 non-null float64\n",
      "PCTPOVALL_2016     3193 non-null float64\n",
      "CI90LBALLP_2016    3193 non-null float64\n",
      "CI90UBALLP_2016    3193 non-null float64\n",
      "POV017_2016        3193 non-null float64\n",
      "CI90LB017_2016     3193 non-null float64\n",
      "CI90UB017_2016     3193 non-null float64\n",
      "PCTPOV017_2016     3193 non-null float64\n",
      "CI90LB017P_2016    3193 non-null float64\n",
      "CI90UB017P_2016    3193 non-null float64\n",
      "POV517_2016        3193 non-null float64\n",
      "CI90LB517_2016     3193 non-null float64\n",
      "CI90UB517_2016     3193 non-null float64\n",
      "PCTPOV517_2016     3193 non-null float64\n",
      "CI90LB517P_2016    3193 non-null float64\n",
      "CI90UB517P_2016    3193 non-null float64\n",
      "MEDHHINC_2016      3193 non-null float64\n",
      "CI90LBINC_2016     3193 non-null float64\n",
      "CI90UBINC_2016     3193 non-null float64\n",
      "POV05_2016         52 non-null float64\n",
      "CI90LB05_2016      52 non-null float64\n",
      "CI90UB05_2016      52 non-null float64\n",
      "PCTPOV05_2016      52 non-null float64\n",
      "CI90LB05P_2016     52 non-null float64\n",
      "CI90UB05P_2016     52 non-null float64\n",
      "dtypes: float64(27), int64(1), object(2)\n",
      "memory usage: 748.7+ KB\n"
     ]
    }
   ],
   "source": [
    "poverty.info()"
   ]
  },
  {
   "cell_type": "code",
   "execution_count": 28,
   "metadata": {},
   "outputs": [],
   "source": [
    "# remove columns with only 52 entries and drop rows with na values (3193/3194 non null values)\n",
    "poverty_no_na = poverty[list(poverty.columns[:-7])].dropna(how = 'any')"
   ]
  },
  {
   "cell_type": "code",
   "execution_count": 29,
   "metadata": {
    "scrolled": true
   },
   "outputs": [
    {
     "name": "stdout",
     "output_type": "stream",
     "text": [
      "<class 'pandas.core.frame.DataFrame'>\n",
      "Int64Index: 3193 entries, 0 to 3193\n",
      "Data columns (total 23 columns):\n",
      "FIPStxt            3193 non-null int64\n",
      "State              3193 non-null object\n",
      "Area_Name          3193 non-null object\n",
      "POVALL_2016        3193 non-null float64\n",
      "CI90LBAll_2016     3193 non-null float64\n",
      "CI90UBALL_2016     3193 non-null float64\n",
      "PCTPOVALL_2016     3193 non-null float64\n",
      "CI90LBALLP_2016    3193 non-null float64\n",
      "CI90UBALLP_2016    3193 non-null float64\n",
      "POV017_2016        3193 non-null float64\n",
      "CI90LB017_2016     3193 non-null float64\n",
      "CI90UB017_2016     3193 non-null float64\n",
      "PCTPOV017_2016     3193 non-null float64\n",
      "CI90LB017P_2016    3193 non-null float64\n",
      "CI90UB017P_2016    3193 non-null float64\n",
      "POV517_2016        3193 non-null float64\n",
      "CI90LB517_2016     3193 non-null float64\n",
      "CI90UB517_2016     3193 non-null float64\n",
      "PCTPOV517_2016     3193 non-null float64\n",
      "CI90LB517P_2016    3193 non-null float64\n",
      "CI90UB517P_2016    3193 non-null float64\n",
      "MEDHHINC_2016      3193 non-null float64\n",
      "CI90LBINC_2016     3193 non-null float64\n",
      "dtypes: float64(20), int64(1), object(2)\n",
      "memory usage: 598.7+ KB\n"
     ]
    }
   ],
   "source": [
    "poverty_no_na.info()"
   ]
  },
  {
   "cell_type": "markdown",
   "metadata": {},
   "source": [
    "## 5. Unemployment Rate"
   ]
  },
  {
   "cell_type": "code",
   "execution_count": 30,
   "metadata": {},
   "outputs": [
    {
     "name": "stdout",
     "output_type": "stream",
     "text": [
      "  % Total    % Received % Xferd  Average Speed   Time    Time     Time  Current\n",
      "                                 Dload  Upload   Total   Spent    Left  Speed\n",
      "100 1456k  100 1456k    0     0   472k      0  0:00:03  0:00:03 --:--:--  472k\n"
     ]
    }
   ],
   "source": [
    "# download data using bash command curl\n",
    "!curl -O -J https://www.ers.usda.gov/webdocs/DataFiles/48747/Unemployment.xls?v=43244"
   ]
  },
  {
   "cell_type": "code",
   "execution_count": 31,
   "metadata": {},
   "outputs": [],
   "source": [
    "# rename the downloaded file to education.xls\n",
    "!mv Unemployment.xls?v=43244 unemployment.xls"
   ]
  },
  {
   "cell_type": "code",
   "execution_count": 32,
   "metadata": {},
   "outputs": [
    {
     "data": {
      "text/plain": [
       "['Unemployment Med HH Inc', 'Variable Descriptions']"
      ]
     },
     "execution_count": 32,
     "metadata": {},
     "output_type": "execute_result"
    }
   ],
   "source": [
    "# load unemployment data from Excel file\n",
    "xl = pd.ExcelFile('unemployment.xls')\n",
    "xl.sheet_names"
   ]
  },
  {
   "cell_type": "code",
   "execution_count": 33,
   "metadata": {},
   "outputs": [],
   "source": [
    "# load a sheet into a pandas df by index \n",
    "unemployment = xl.parse(0, skiprows = 7)"
   ]
  },
  {
   "cell_type": "code",
   "execution_count": 34,
   "metadata": {},
   "outputs": [],
   "source": [
    "# select columns that only contain relevant data for 2016\n",
    "unemployment = unemployment[list(unemployment.columns[:3]) + [column for column in unemployment.columns if '2016' in column]]"
   ]
  },
  {
   "cell_type": "code",
   "execution_count": 35,
   "metadata": {
    "scrolled": false
   },
   "outputs": [
    {
     "name": "stdout",
     "output_type": "stream",
     "text": [
      "<class 'pandas.core.frame.DataFrame'>\n",
      "RangeIndex: 3275 entries, 0 to 3274\n",
      "Data columns (total 9 columns):\n",
      "FIPStxt                                      3275 non-null int64\n",
      "State                                        3275 non-null object\n",
      "Area_name                                    3275 non-null object\n",
      "Civilian_labor_force_2016                    3272 non-null float64\n",
      "Employed_2016                                3272 non-null float64\n",
      "Unemployed_2016                              3272 non-null float64\n",
      "Unemployment_rate_2016                       3272 non-null float64\n",
      "Median_Household_Income_2016                 3193 non-null float64\n",
      "Med_HH_Income_Percent_of_State_Total_2016    3192 non-null float64\n",
      "dtypes: float64(6), int64(1), object(2)\n",
      "memory usage: 230.4+ KB\n"
     ]
    }
   ],
   "source": [
    "unemployment.info()"
   ]
  },
  {
   "cell_type": "code",
   "execution_count": 36,
   "metadata": {},
   "outputs": [],
   "source": [
    "# remove all null values from median_household_income_2016 column (3193/3275 nonnull values)\n",
    "unemployment_no_na = unemployment.loc[unemployment.Median_Household_Income_2016.notnull(), :]"
   ]
  },
  {
   "cell_type": "code",
   "execution_count": 37,
   "metadata": {
    "scrolled": true
   },
   "outputs": [
    {
     "name": "stdout",
     "output_type": "stream",
     "text": [
      "<class 'pandas.core.frame.DataFrame'>\n",
      "Int64Index: 3193 entries, 0 to 3195\n",
      "Data columns (total 9 columns):\n",
      "FIPStxt                                      3193 non-null int64\n",
      "State                                        3193 non-null object\n",
      "Area_name                                    3193 non-null object\n",
      "Civilian_labor_force_2016                    3193 non-null float64\n",
      "Employed_2016                                3193 non-null float64\n",
      "Unemployed_2016                              3193 non-null float64\n",
      "Unemployment_rate_2016                       3193 non-null float64\n",
      "Median_Household_Income_2016                 3193 non-null float64\n",
      "Med_HH_Income_Percent_of_State_Total_2016    3192 non-null float64\n",
      "dtypes: float64(6), int64(1), object(2)\n",
      "memory usage: 249.5+ KB\n"
     ]
    }
   ],
   "source": [
    "unemployment_no_na.info()"
   ]
  },
  {
   "cell_type": "code",
   "execution_count": 38,
   "metadata": {},
   "outputs": [
    {
     "data": {
      "text/html": [
       "<div>\n",
       "<style scoped>\n",
       "    .dataframe tbody tr th:only-of-type {\n",
       "        vertical-align: middle;\n",
       "    }\n",
       "\n",
       "    .dataframe tbody tr th {\n",
       "        vertical-align: top;\n",
       "    }\n",
       "\n",
       "    .dataframe thead th {\n",
       "        text-align: right;\n",
       "    }\n",
       "</style>\n",
       "<table border=\"1\" class=\"dataframe\">\n",
       "  <thead>\n",
       "    <tr style=\"text-align: right;\">\n",
       "      <th></th>\n",
       "      <th>FIPStxt</th>\n",
       "      <th>State</th>\n",
       "      <th>Area_name</th>\n",
       "      <th>Civilian_labor_force_2016</th>\n",
       "      <th>Employed_2016</th>\n",
       "      <th>Unemployed_2016</th>\n",
       "      <th>Unemployment_rate_2016</th>\n",
       "      <th>Median_Household_Income_2016</th>\n",
       "      <th>Med_HH_Income_Percent_of_State_Total_2016</th>\n",
       "    </tr>\n",
       "  </thead>\n",
       "  <tbody>\n",
       "    <tr>\n",
       "      <th>0</th>\n",
       "      <td>0</td>\n",
       "      <td>US</td>\n",
       "      <td>United States</td>\n",
       "      <td>158921892.0</td>\n",
       "      <td>151183680.0</td>\n",
       "      <td>7738212.0</td>\n",
       "      <td>4.869192</td>\n",
       "      <td>57617.0</td>\n",
       "      <td>NaN</td>\n",
       "    </tr>\n",
       "    <tr>\n",
       "      <th>1</th>\n",
       "      <td>1000</td>\n",
       "      <td>AL</td>\n",
       "      <td>Alabama</td>\n",
       "      <td>2173175.0</td>\n",
       "      <td>2045624.0</td>\n",
       "      <td>127551.0</td>\n",
       "      <td>5.900000</td>\n",
       "      <td>46309.0</td>\n",
       "      <td>100.0</td>\n",
       "    </tr>\n",
       "    <tr>\n",
       "      <th>2</th>\n",
       "      <td>1001</td>\n",
       "      <td>AL</td>\n",
       "      <td>Autauga County, AL</td>\n",
       "      <td>25918.0</td>\n",
       "      <td>24593.0</td>\n",
       "      <td>1325.0</td>\n",
       "      <td>5.100000</td>\n",
       "      <td>54487.0</td>\n",
       "      <td>117.7</td>\n",
       "    </tr>\n",
       "    <tr>\n",
       "      <th>3</th>\n",
       "      <td>1003</td>\n",
       "      <td>AL</td>\n",
       "      <td>Baldwin County, AL</td>\n",
       "      <td>90500.0</td>\n",
       "      <td>85656.0</td>\n",
       "      <td>4844.0</td>\n",
       "      <td>5.400000</td>\n",
       "      <td>56460.0</td>\n",
       "      <td>121.9</td>\n",
       "    </tr>\n",
       "    <tr>\n",
       "      <th>4</th>\n",
       "      <td>1005</td>\n",
       "      <td>AL</td>\n",
       "      <td>Barbour County, AL</td>\n",
       "      <td>8402.0</td>\n",
       "      <td>7700.0</td>\n",
       "      <td>702.0</td>\n",
       "      <td>8.400000</td>\n",
       "      <td>32884.0</td>\n",
       "      <td>71.0</td>\n",
       "    </tr>\n",
       "  </tbody>\n",
       "</table>\n",
       "</div>"
      ],
      "text/plain": [
       "   FIPStxt State           Area_name  Civilian_labor_force_2016  \\\n",
       "0        0    US       United States                158921892.0   \n",
       "1     1000    AL             Alabama                  2173175.0   \n",
       "2     1001    AL  Autauga County, AL                    25918.0   \n",
       "3     1003    AL  Baldwin County, AL                    90500.0   \n",
       "4     1005    AL  Barbour County, AL                     8402.0   \n",
       "\n",
       "   Employed_2016  Unemployed_2016  Unemployment_rate_2016  \\\n",
       "0    151183680.0        7738212.0                4.869192   \n",
       "1      2045624.0         127551.0                5.900000   \n",
       "2        24593.0           1325.0                5.100000   \n",
       "3        85656.0           4844.0                5.400000   \n",
       "4         7700.0            702.0                8.400000   \n",
       "\n",
       "   Median_Household_Income_2016  Med_HH_Income_Percent_of_State_Total_2016  \n",
       "0                       57617.0                                        NaN  \n",
       "1                       46309.0                                      100.0  \n",
       "2                       54487.0                                      117.7  \n",
       "3                       56460.0                                      121.9  \n",
       "4                       32884.0                                       71.0  "
      ]
     },
     "execution_count": 38,
     "metadata": {},
     "output_type": "execute_result"
    }
   ],
   "source": [
    "unemployment_no_na.head()"
   ]
  },
  {
   "cell_type": "markdown",
   "metadata": {},
   "source": [
    "# 6. Opioid Overdose Death Rate"
   ]
  },
  {
   "cell_type": "markdown",
   "metadata": {},
   "source": [
    "Drug overdose death data can be downloaded from https://wonder.cdc.gov/controller/saved/D77/D39F042. From here, I agree to the CDC terms and generate a dataset with the preset search query information that is already preloaded. Then, I export the data file and save it into my working directory. I also added this file to my github account https://raw.githubusercontent.com/danielhanbitlee/Springboard/master/capstone_project/data/2016.txt so that it's readily accessible for anyone to access. Note that statistics representing zero to nine death counts in a given county are suppressed at the region, county, and state level. These counties with suppressed statistics are assumed to have zero mortality rate, since the number of deaths tend to be negligible when compared to the county population size."
   ]
  },
  {
   "cell_type": "code",
   "execution_count": 40,
   "metadata": {},
   "outputs": [
    {
     "name": "stdout",
     "output_type": "stream",
     "text": [
      "  % Total    % Received % Xferd  Average Speed   Time    Time     Time  Current\n",
      "                                 Dload  Upload   Total   Spent    Left  Speed\n",
      "100  176k  100  176k    0     0   124k      0  0:00:01  0:00:01 --:--:--  124k\n"
     ]
    }
   ],
   "source": [
    "# download data using bash command curl\n",
    "!curl -O https://raw.githubusercontent.com/danielhanbitlee/Springboard/master/capstone_project/data/2016.txt"
   ]
  },
  {
   "cell_type": "code",
   "execution_count": 41,
   "metadata": {},
   "outputs": [],
   "source": [
    "# remove the comments and notes from the txt file and select only the data. Then save the file into drug_overdose.txt\n",
    "!sed -n 2,3148p '2016.txt' > drug_overdose.txt"
   ]
  },
  {
   "cell_type": "code",
   "execution_count": 42,
   "metadata": {},
   "outputs": [],
   "source": [
    "# load drug overdose death data into pandas df\n",
    "death_rates = pd.read_csv('drug_overdose.txt', \n",
    "                             delimiter = r\"[\\t]\", \n",
    "                             engine = 'python', \n",
    "                             header = None, \n",
    "                             na_values=['Missing'])\n",
    "\n",
    "# insert column names into df\n",
    "death_rates.columns = ['county','fips_code', 'deaths', 'population', 'crude_opioid_mortality_rate']\n",
    "\n",
    "# remove double quotes from data\n",
    "death_rates.county = death_rates.county.str.replace('\"', \"\")\n",
    "death_rates.fips_code = death_rates.fips_code.str.replace('\"', \"\")\n",
    "\n",
    "# replace 'Suppressed' with 0 for all columns\n",
    "death_rates = death_rates.replace('Suppressed', 0)\n",
    "\n",
    "# convert deaths column to numeric\n",
    "death_rates.deaths = pd.to_numeric(death_rates.deaths)\n",
    "\n",
    "# manually calculate crude_opioid_mortality_rate to fill in unreliable values with given data\n",
    "death_rates['crude_opioid_mortality_rate'] = round(death_rates.deaths / death_rates.population * 100000, 1)\n",
    "\n",
    "# fill na values of crude_opioid_mortality_rate column with -1\n",
    "death_rates.crude_opioid_mortality_rate = death_rates.crude_opioid_mortality_rate.fillna(-1)\n",
    "\n",
    "# convert appropriate columns into numeric data type\n",
    "death_rates.fips_code = pd.to_numeric(death_rates.fips_code)\n",
    "death_rates.population = pd.to_numeric(death_rates.population)\n",
    "death_rates.crude_opioid_mortality_rate = pd.to_numeric(death_rates.crude_opioid_mortality_rate)"
   ]
  },
  {
   "cell_type": "code",
   "execution_count": 43,
   "metadata": {},
   "outputs": [
    {
     "data": {
      "text/html": [
       "<div>\n",
       "<style scoped>\n",
       "    .dataframe tbody tr th:only-of-type {\n",
       "        vertical-align: middle;\n",
       "    }\n",
       "\n",
       "    .dataframe tbody tr th {\n",
       "        vertical-align: top;\n",
       "    }\n",
       "\n",
       "    .dataframe thead th {\n",
       "        text-align: right;\n",
       "    }\n",
       "</style>\n",
       "<table border=\"1\" class=\"dataframe\">\n",
       "  <thead>\n",
       "    <tr style=\"text-align: right;\">\n",
       "      <th></th>\n",
       "      <th>county</th>\n",
       "      <th>fips_code</th>\n",
       "      <th>deaths</th>\n",
       "      <th>population</th>\n",
       "      <th>crude_opioid_mortality_rate</th>\n",
       "    </tr>\n",
       "  </thead>\n",
       "  <tbody>\n",
       "    <tr>\n",
       "      <th>88</th>\n",
       "      <td>Prince of Wales-Outer Ketchikan Census Area, AK</td>\n",
       "      <td>2201</td>\n",
       "      <td>NaN</td>\n",
       "      <td>NaN</td>\n",
       "      <td>-1.0</td>\n",
       "    </tr>\n",
       "    <tr>\n",
       "      <th>91</th>\n",
       "      <td>Skagway-Hoonah-Angoon Census Area, AK</td>\n",
       "      <td>2232</td>\n",
       "      <td>NaN</td>\n",
       "      <td>NaN</td>\n",
       "      <td>-1.0</td>\n",
       "    </tr>\n",
       "    <tr>\n",
       "      <th>96</th>\n",
       "      <td>Wrangell-Petersburg Census Area, AK</td>\n",
       "      <td>2280</td>\n",
       "      <td>NaN</td>\n",
       "      <td>NaN</td>\n",
       "      <td>-1.0</td>\n",
       "    </tr>\n",
       "    <tr>\n",
       "      <th>2919</th>\n",
       "      <td>Bedford city, VA</td>\n",
       "      <td>51515</td>\n",
       "      <td>NaN</td>\n",
       "      <td>NaN</td>\n",
       "      <td>-1.0</td>\n",
       "    </tr>\n",
       "    <tr>\n",
       "      <th>2924</th>\n",
       "      <td>Clifton Forge city, VA</td>\n",
       "      <td>51560</td>\n",
       "      <td>NaN</td>\n",
       "      <td>NaN</td>\n",
       "      <td>-1.0</td>\n",
       "    </tr>\n",
       "  </tbody>\n",
       "</table>\n",
       "</div>"
      ],
      "text/plain": [
       "                                               county  fips_code  deaths  \\\n",
       "88    Prince of Wales-Outer Ketchikan Census Area, AK       2201     NaN   \n",
       "91              Skagway-Hoonah-Angoon Census Area, AK       2232     NaN   \n",
       "96                Wrangell-Petersburg Census Area, AK       2280     NaN   \n",
       "2919                                 Bedford city, VA      51515     NaN   \n",
       "2924                           Clifton Forge city, VA      51560     NaN   \n",
       "\n",
       "      population  crude_opioid_mortality_rate  \n",
       "88           NaN                         -1.0  \n",
       "91           NaN                         -1.0  \n",
       "96           NaN                         -1.0  \n",
       "2919         NaN                         -1.0  \n",
       "2924         NaN                         -1.0  "
      ]
     },
     "execution_count": 43,
     "metadata": {},
     "output_type": "execute_result"
    }
   ],
   "source": [
    "# check for any rows with missing values\n",
    "death_rates[death_rates.isnull().any(axis=1)]"
   ]
  },
  {
   "cell_type": "code",
   "execution_count": 44,
   "metadata": {
    "scrolled": true
   },
   "outputs": [
    {
     "name": "stdout",
     "output_type": "stream",
     "text": [
      "<class 'pandas.core.frame.DataFrame'>\n",
      "RangeIndex: 3147 entries, 0 to 3146\n",
      "Data columns (total 5 columns):\n",
      "county                         3147 non-null object\n",
      "fips_code                      3147 non-null int64\n",
      "deaths                         3142 non-null float64\n",
      "population                     3142 non-null float64\n",
      "crude_opioid_mortality_rate    3147 non-null float64\n",
      "dtypes: float64(3), int64(1), object(1)\n",
      "memory usage: 123.0+ KB\n"
     ]
    }
   ],
   "source": [
    "death_rates.info()"
   ]
  },
  {
   "cell_type": "code",
   "execution_count": 45,
   "metadata": {},
   "outputs": [
    {
     "data": {
      "text/html": [
       "<div>\n",
       "<style scoped>\n",
       "    .dataframe tbody tr th:only-of-type {\n",
       "        vertical-align: middle;\n",
       "    }\n",
       "\n",
       "    .dataframe tbody tr th {\n",
       "        vertical-align: top;\n",
       "    }\n",
       "\n",
       "    .dataframe thead th {\n",
       "        text-align: right;\n",
       "    }\n",
       "</style>\n",
       "<table border=\"1\" class=\"dataframe\">\n",
       "  <thead>\n",
       "    <tr style=\"text-align: right;\">\n",
       "      <th></th>\n",
       "      <th>county</th>\n",
       "      <th>fips_code</th>\n",
       "      <th>deaths</th>\n",
       "      <th>population</th>\n",
       "      <th>crude_opioid_mortality_rate</th>\n",
       "    </tr>\n",
       "  </thead>\n",
       "  <tbody>\n",
       "    <tr>\n",
       "      <th>0</th>\n",
       "      <td>Autauga County, AL</td>\n",
       "      <td>1001</td>\n",
       "      <td>0.0</td>\n",
       "      <td>55416.0</td>\n",
       "      <td>0.0</td>\n",
       "    </tr>\n",
       "    <tr>\n",
       "      <th>1</th>\n",
       "      <td>Baldwin County, AL</td>\n",
       "      <td>1003</td>\n",
       "      <td>18.0</td>\n",
       "      <td>208563.0</td>\n",
       "      <td>8.6</td>\n",
       "    </tr>\n",
       "    <tr>\n",
       "      <th>2</th>\n",
       "      <td>Barbour County, AL</td>\n",
       "      <td>1005</td>\n",
       "      <td>0.0</td>\n",
       "      <td>25965.0</td>\n",
       "      <td>0.0</td>\n",
       "    </tr>\n",
       "    <tr>\n",
       "      <th>3</th>\n",
       "      <td>Bibb County, AL</td>\n",
       "      <td>1007</td>\n",
       "      <td>0.0</td>\n",
       "      <td>22643.0</td>\n",
       "      <td>0.0</td>\n",
       "    </tr>\n",
       "    <tr>\n",
       "      <th>4</th>\n",
       "      <td>Blount County, AL</td>\n",
       "      <td>1009</td>\n",
       "      <td>0.0</td>\n",
       "      <td>57704.0</td>\n",
       "      <td>0.0</td>\n",
       "    </tr>\n",
       "  </tbody>\n",
       "</table>\n",
       "</div>"
      ],
      "text/plain": [
       "               county  fips_code  deaths  population  \\\n",
       "0  Autauga County, AL       1001     0.0     55416.0   \n",
       "1  Baldwin County, AL       1003    18.0    208563.0   \n",
       "2  Barbour County, AL       1005     0.0     25965.0   \n",
       "3     Bibb County, AL       1007     0.0     22643.0   \n",
       "4   Blount County, AL       1009     0.0     57704.0   \n",
       "\n",
       "   crude_opioid_mortality_rate  \n",
       "0                          0.0  \n",
       "1                          8.6  \n",
       "2                          0.0  \n",
       "3                          0.0  \n",
       "4                          0.0  "
      ]
     },
     "execution_count": 45,
     "metadata": {},
     "output_type": "execute_result"
    }
   ],
   "source": [
    "death_rates.head()"
   ]
  },
  {
   "cell_type": "code",
   "execution_count": 46,
   "metadata": {},
   "outputs": [],
   "source": [
    "# save dataframe as csv for plotting purposes\n",
    "death_rates.to_csv('death_rates.csv', index = False)"
   ]
  },
  {
   "cell_type": "markdown",
   "metadata": {},
   "source": [
    "## 7. Overall Death Rate (All Causes)"
   ]
  },
  {
   "cell_type": "markdown",
   "metadata": {},
   "source": [
    "Overall death rate for 2016 for all causes of death by county data can be downloaded from https://wonder.cdc.gov/controller/saved/D77/D41F026. From here, I agree to the CDC terms and generate a dataset with the preset search query information that is already preloaded. Then, I export the data file and save it into my working directory. I also added this file to my github account https://raw.githubusercontent.com/danielhanbitlee/Springboard/master/capstone_project/data/overall_death_rate_2016.txt so that it's readily accessible for anyone to access."
   ]
  },
  {
   "cell_type": "code",
   "execution_count": 47,
   "metadata": {},
   "outputs": [],
   "source": [
    "# read in the data for all deaths\n",
    "overall_death_rate = pd.read_csv(\"https://raw.githubusercontent.com/danielhanbitlee/Springboard/master/capstone_project/data/overall_death_rate_2016.txt\",\n",
    "            delimiter = r\"[\\t]\", \n",
    "            engine = 'python', \n",
    "            header = None, \n",
    "            na_values=['Missing'])[1:]\n",
    "\n",
    "overall_death_rate = overall_death_rate.iloc[:3147, 0:-1] # get rid of rows that contain notes; column that is all NaN\n",
    "\n",
    "# rename columns\n",
    "overall_death_rate.columns = ['county', 'fips_code', 'deaths', 'population', 'crude_mortality_rate_all_causes']\n",
    "\n",
    "# reset index to start from 0 and also drop the index column afterwards\n",
    "overall_death_rate.reset_index(inplace = True, drop = True)\n",
    "\n",
    "# remove double quotes from data\n",
    "overall_death_rate.county = overall_death_rate.county.str.replace('\"', \"\")\n",
    "overall_death_rate.fips_code = overall_death_rate.fips_code.str.replace('\"', \"\")\n",
    "\n",
    "# replace 'Suppressed' with 0 for all columns\n",
    "overall_death_rate = overall_death_rate.replace('Suppressed', 0)\n",
    "\n",
    "# convert deaths column to numeric\n",
    "overall_death_rate.deaths = pd.to_numeric(overall_death_rate.deaths)\n",
    "overall_death_rate.population = pd.to_numeric(overall_death_rate.population)\n",
    "\n",
    "# manually calculate crude_mortality_rate_all_causes to fill in unreliable values with given data\n",
    "overall_death_rate['crude_mortality_rate_all_causes'] = round(overall_death_rate.deaths / overall_death_rate.population * 100000,\n",
    "                                                              1)\n",
    "\n",
    "# fill na values of crude_mortality_rate_all_causes column with -1\n",
    "overall_death_rate.crude_mortality_rate_all_causes = overall_death_rate.crude_mortality_rate_all_causes.fillna(-1)\n",
    "\n",
    "# convert appropriate columns into numeric data type\n",
    "overall_death_rate.fips_code = pd.to_numeric(overall_death_rate.fips_code)\n",
    "overall_death_rate.population = pd.to_numeric(overall_death_rate.population)\n",
    "overall_death_rate.crude_mortality_rate_all_causes = pd.to_numeric(overall_death_rate.crude_mortality_rate_all_causes)"
   ]
  },
  {
   "cell_type": "code",
   "execution_count": 48,
   "metadata": {},
   "outputs": [
    {
     "data": {
      "text/html": [
       "<div>\n",
       "<style scoped>\n",
       "    .dataframe tbody tr th:only-of-type {\n",
       "        vertical-align: middle;\n",
       "    }\n",
       "\n",
       "    .dataframe tbody tr th {\n",
       "        vertical-align: top;\n",
       "    }\n",
       "\n",
       "    .dataframe thead th {\n",
       "        text-align: right;\n",
       "    }\n",
       "</style>\n",
       "<table border=\"1\" class=\"dataframe\">\n",
       "  <thead>\n",
       "    <tr style=\"text-align: right;\">\n",
       "      <th></th>\n",
       "      <th>county</th>\n",
       "      <th>fips_code</th>\n",
       "      <th>deaths</th>\n",
       "      <th>population</th>\n",
       "      <th>crude_mortality_rate_all_causes</th>\n",
       "    </tr>\n",
       "  </thead>\n",
       "  <tbody>\n",
       "    <tr>\n",
       "      <th>0</th>\n",
       "      <td>Autauga County, AL</td>\n",
       "      <td>1001</td>\n",
       "      <td>520.0</td>\n",
       "      <td>55416.0</td>\n",
       "      <td>938.4</td>\n",
       "    </tr>\n",
       "    <tr>\n",
       "      <th>1</th>\n",
       "      <td>Baldwin County, AL</td>\n",
       "      <td>1003</td>\n",
       "      <td>1974.0</td>\n",
       "      <td>208563.0</td>\n",
       "      <td>946.5</td>\n",
       "    </tr>\n",
       "    <tr>\n",
       "      <th>2</th>\n",
       "      <td>Barbour County, AL</td>\n",
       "      <td>1005</td>\n",
       "      <td>256.0</td>\n",
       "      <td>25965.0</td>\n",
       "      <td>985.9</td>\n",
       "    </tr>\n",
       "    <tr>\n",
       "      <th>3</th>\n",
       "      <td>Bibb County, AL</td>\n",
       "      <td>1007</td>\n",
       "      <td>239.0</td>\n",
       "      <td>22643.0</td>\n",
       "      <td>1055.5</td>\n",
       "    </tr>\n",
       "    <tr>\n",
       "      <th>4</th>\n",
       "      <td>Blount County, AL</td>\n",
       "      <td>1009</td>\n",
       "      <td>697.0</td>\n",
       "      <td>57704.0</td>\n",
       "      <td>1207.9</td>\n",
       "    </tr>\n",
       "  </tbody>\n",
       "</table>\n",
       "</div>"
      ],
      "text/plain": [
       "               county  fips_code  deaths  population  \\\n",
       "0  Autauga County, AL       1001   520.0     55416.0   \n",
       "1  Baldwin County, AL       1003  1974.0    208563.0   \n",
       "2  Barbour County, AL       1005   256.0     25965.0   \n",
       "3     Bibb County, AL       1007   239.0     22643.0   \n",
       "4   Blount County, AL       1009   697.0     57704.0   \n",
       "\n",
       "   crude_mortality_rate_all_causes  \n",
       "0                            938.4  \n",
       "1                            946.5  \n",
       "2                            985.9  \n",
       "3                           1055.5  \n",
       "4                           1207.9  "
      ]
     },
     "execution_count": 48,
     "metadata": {},
     "output_type": "execute_result"
    }
   ],
   "source": [
    "overall_death_rate.head()"
   ]
  },
  {
   "cell_type": "code",
   "execution_count": 49,
   "metadata": {},
   "outputs": [
    {
     "data": {
      "text/html": [
       "<div>\n",
       "<style scoped>\n",
       "    .dataframe tbody tr th:only-of-type {\n",
       "        vertical-align: middle;\n",
       "    }\n",
       "\n",
       "    .dataframe tbody tr th {\n",
       "        vertical-align: top;\n",
       "    }\n",
       "\n",
       "    .dataframe thead th {\n",
       "        text-align: right;\n",
       "    }\n",
       "</style>\n",
       "<table border=\"1\" class=\"dataframe\">\n",
       "  <thead>\n",
       "    <tr style=\"text-align: right;\">\n",
       "      <th></th>\n",
       "      <th>county</th>\n",
       "      <th>fips_code</th>\n",
       "      <th>deaths</th>\n",
       "      <th>population</th>\n",
       "      <th>crude_mortality_rate_all_causes</th>\n",
       "    </tr>\n",
       "  </thead>\n",
       "  <tbody>\n",
       "    <tr>\n",
       "      <th>88</th>\n",
       "      <td>Prince of Wales-Outer Ketchikan Census Area, AK</td>\n",
       "      <td>2201</td>\n",
       "      <td>NaN</td>\n",
       "      <td>NaN</td>\n",
       "      <td>-1.0</td>\n",
       "    </tr>\n",
       "    <tr>\n",
       "      <th>91</th>\n",
       "      <td>Skagway-Hoonah-Angoon Census Area, AK</td>\n",
       "      <td>2232</td>\n",
       "      <td>NaN</td>\n",
       "      <td>NaN</td>\n",
       "      <td>-1.0</td>\n",
       "    </tr>\n",
       "    <tr>\n",
       "      <th>96</th>\n",
       "      <td>Wrangell-Petersburg Census Area, AK</td>\n",
       "      <td>2280</td>\n",
       "      <td>NaN</td>\n",
       "      <td>NaN</td>\n",
       "      <td>-1.0</td>\n",
       "    </tr>\n",
       "    <tr>\n",
       "      <th>2919</th>\n",
       "      <td>Bedford city, VA</td>\n",
       "      <td>51515</td>\n",
       "      <td>NaN</td>\n",
       "      <td>NaN</td>\n",
       "      <td>-1.0</td>\n",
       "    </tr>\n",
       "    <tr>\n",
       "      <th>2924</th>\n",
       "      <td>Clifton Forge city, VA</td>\n",
       "      <td>51560</td>\n",
       "      <td>NaN</td>\n",
       "      <td>NaN</td>\n",
       "      <td>-1.0</td>\n",
       "    </tr>\n",
       "  </tbody>\n",
       "</table>\n",
       "</div>"
      ],
      "text/plain": [
       "                                               county  fips_code  deaths  \\\n",
       "88    Prince of Wales-Outer Ketchikan Census Area, AK       2201     NaN   \n",
       "91              Skagway-Hoonah-Angoon Census Area, AK       2232     NaN   \n",
       "96                Wrangell-Petersburg Census Area, AK       2280     NaN   \n",
       "2919                                 Bedford city, VA      51515     NaN   \n",
       "2924                           Clifton Forge city, VA      51560     NaN   \n",
       "\n",
       "      population  crude_mortality_rate_all_causes  \n",
       "88           NaN                             -1.0  \n",
       "91           NaN                             -1.0  \n",
       "96           NaN                             -1.0  \n",
       "2919         NaN                             -1.0  \n",
       "2924         NaN                             -1.0  "
      ]
     },
     "execution_count": 49,
     "metadata": {},
     "output_type": "execute_result"
    }
   ],
   "source": [
    "# check for any rows with missing values\n",
    "overall_death_rate[overall_death_rate.isnull().any(axis=1)]"
   ]
  },
  {
   "cell_type": "code",
   "execution_count": 50,
   "metadata": {},
   "outputs": [
    {
     "name": "stdout",
     "output_type": "stream",
     "text": [
      "<class 'pandas.core.frame.DataFrame'>\n",
      "RangeIndex: 3147 entries, 0 to 3146\n",
      "Data columns (total 5 columns):\n",
      "county                             3147 non-null object\n",
      "fips_code                          3147 non-null int64\n",
      "deaths                             3142 non-null float64\n",
      "population                         3142 non-null float64\n",
      "crude_mortality_rate_all_causes    3147 non-null float64\n",
      "dtypes: float64(3), int64(1), object(1)\n",
      "memory usage: 123.0+ KB\n"
     ]
    }
   ],
   "source": [
    "overall_death_rate.info()"
   ]
  },
  {
   "cell_type": "markdown",
   "metadata": {},
   "source": [
    "## 8. County Level Race Data 2016"
   ]
  },
  {
   "cell_type": "markdown",
   "metadata": {},
   "source": [
    "County race data for 2016 can be downloaded from https://wonder.cdc.gov/controller/saved/D134/D41F352. From here, I agree to the CDC terms and generate a dataset with the preset search query information that is already preloaded. Then, I export the data file and save it into my working directory. I also added this file to my github account https://raw.githubusercontent.com/danielhanbitlee/Springboard/master/capstone_project/data/county_race_2016.txt so that it's readily accessible for anyone to access."
   ]
  },
  {
   "cell_type": "code",
   "execution_count": 267,
   "metadata": {},
   "outputs": [
    {
     "data": {
      "text/html": [
       "<div>\n",
       "<style scoped>\n",
       "    .dataframe tbody tr th:only-of-type {\n",
       "        vertical-align: middle;\n",
       "    }\n",
       "\n",
       "    .dataframe tbody tr th {\n",
       "        vertical-align: top;\n",
       "    }\n",
       "\n",
       "    .dataframe thead th {\n",
       "        text-align: right;\n",
       "    }\n",
       "</style>\n",
       "<table border=\"1\" class=\"dataframe\">\n",
       "  <thead>\n",
       "    <tr style=\"text-align: right;\">\n",
       "      <th>race</th>\n",
       "      <th>American Indian or Alaska Native_pct</th>\n",
       "      <th>Asian or Pacific Islander_pct</th>\n",
       "      <th>Black or African American_pct</th>\n",
       "      <th>White_pct</th>\n",
       "    </tr>\n",
       "    <tr>\n",
       "      <th>fips</th>\n",
       "      <th></th>\n",
       "      <th></th>\n",
       "      <th></th>\n",
       "      <th></th>\n",
       "    </tr>\n",
       "  </thead>\n",
       "  <tbody>\n",
       "    <tr>\n",
       "      <th>1001</th>\n",
       "      <td>0.498051</td>\n",
       "      <td>1.396709</td>\n",
       "      <td>19.833622</td>\n",
       "      <td>78.271618</td>\n",
       "    </tr>\n",
       "    <tr>\n",
       "      <th>1003</th>\n",
       "      <td>0.862090</td>\n",
       "      <td>1.256695</td>\n",
       "      <td>9.563537</td>\n",
       "      <td>88.317679</td>\n",
       "    </tr>\n",
       "    <tr>\n",
       "      <th>1005</th>\n",
       "      <td>0.673984</td>\n",
       "      <td>0.647025</td>\n",
       "      <td>48.503755</td>\n",
       "      <td>50.175236</td>\n",
       "    </tr>\n",
       "    <tr>\n",
       "      <th>1007</th>\n",
       "      <td>0.379808</td>\n",
       "      <td>0.353310</td>\n",
       "      <td>22.130460</td>\n",
       "      <td>77.136422</td>\n",
       "    </tr>\n",
       "    <tr>\n",
       "      <th>1009</th>\n",
       "      <td>0.672397</td>\n",
       "      <td>0.441910</td>\n",
       "      <td>1.885485</td>\n",
       "      <td>97.000208</td>\n",
       "    </tr>\n",
       "  </tbody>\n",
       "</table>\n",
       "</div>"
      ],
      "text/plain": [
       "race  American Indian or Alaska Native_pct  Asian or Pacific Islander_pct  \\\n",
       "fips                                                                        \n",
       "1001                              0.498051                       1.396709   \n",
       "1003                              0.862090                       1.256695   \n",
       "1005                              0.673984                       0.647025   \n",
       "1007                              0.379808                       0.353310   \n",
       "1009                              0.672397                       0.441910   \n",
       "\n",
       "race  Black or African American_pct  White_pct  \n",
       "fips                                            \n",
       "1001                      19.833622  78.271618  \n",
       "1003                       9.563537  88.317679  \n",
       "1005                      48.503755  50.175236  \n",
       "1007                      22.130460  77.136422  \n",
       "1009                       1.885485  97.000208  "
      ]
     },
     "execution_count": 267,
     "metadata": {},
     "output_type": "execute_result"
    }
   ],
   "source": [
    "# read in data, remove rows with notes at the bottom of the document\n",
    "county_race = pd.read_csv('https://raw.githubusercontent.com/danielhanbitlee/Springboard/master/capstone_project/data/county_race_2016.txt',\n",
    "                          delimiter = r\"[\\t]\", \n",
    "                          engine = 'python').drop(columns = ['Population', '\"Race\"']).iloc[:12588, :]\n",
    "\n",
    "# rename the columns\n",
    "county_race.columns = ['county', 'fips', 'race', 'population']\n",
    "\n",
    "# remove missing population data (these counties are no longer counties)\n",
    "county_race = county_race[county_race.population != 'Missing'] \n",
    "\n",
    "# replace double quotes in dataframe\n",
    "for column in county_race.columns:\n",
    "    county_race['{}'.format(column)] = county_race['{}'.format(column)].str.replace('\"', \"\")\n",
    "\n",
    "# convert fips and population columns to numeric\n",
    "for column in ['fips', 'population']:\n",
    "    county_race['{}'.format(column)] = pd.to_numeric(county_race['{}'.format(column)])\n",
    "\n",
    "# pivot data so that columns are race\n",
    "county_race_pivoted = county_race.pivot(index = 'fips', \n",
    "                                              columns='race', \n",
    "                                              values='population').sort_values(by = 'fips')\n",
    "\n",
    "# calculate the total population for each county\n",
    "total_population = county_race_pivoted.sum(axis = 1)\n",
    "\n",
    "# calculate percentage of race by total population of county\n",
    "for column in county_race_pivoted.columns:\n",
    "    county_race_pivoted['{}_pct'.format(column)] = county_race_pivoted['{}'.format(column)] / \\\n",
    "                                                   total_population * 100\n",
    "\n",
    "# drop population count columns and only keep the percentages\n",
    "county_race_pct = county_race_pivoted.drop(columns = county_race_pivoted.columns[:4])\n",
    "\n",
    "county_race_pct.head()"
   ]
  },
  {
   "cell_type": "markdown",
   "metadata": {},
   "source": [
    "## 9. County Level Age Data 2016"
   ]
  },
  {
   "cell_type": "markdown",
   "metadata": {},
   "source": [
    "County age data for 2016 can be downloaded from https://wonder.cdc.gov/controller/saved/D134/D41F353. From here, I agree to the CDC terms and generate a dataset with the preset search query information that is already preloaded. Then, I export the data file and save it into my working directory. I also added this file to my github account https://raw.githubusercontent.com/danielhanbitlee/Springboard/master/capstone_project/data/county_age_2016.txt so that it's readily accessible for anyone to access."
   ]
  },
  {
   "cell_type": "code",
   "execution_count": 10,
   "metadata": {},
   "outputs": [
    {
     "data": {
      "text/html": [
       "<div>\n",
       "<style scoped>\n",
       "    .dataframe tbody tr th:only-of-type {\n",
       "        vertical-align: middle;\n",
       "    }\n",
       "\n",
       "    .dataframe tbody tr th {\n",
       "        vertical-align: top;\n",
       "    }\n",
       "\n",
       "    .dataframe thead th {\n",
       "        text-align: right;\n",
       "    }\n",
       "</style>\n",
       "<table border=\"1\" class=\"dataframe\">\n",
       "  <thead>\n",
       "    <tr style=\"text-align: right;\">\n",
       "      <th></th>\n",
       "      <th>10_14_years_pct</th>\n",
       "      <th>15_19_years_pct</th>\n",
       "      <th>1_4_years_pct</th>\n",
       "      <th>20_24_years_pct</th>\n",
       "      <th>25_29_years_pct</th>\n",
       "      <th>30_34_years_pct</th>\n",
       "      <th>35_39_years_pct</th>\n",
       "      <th>40_44_years_pct</th>\n",
       "      <th>45_49_years_pct</th>\n",
       "      <th>50_54_years_pct</th>\n",
       "      <th>55_59_years_pct</th>\n",
       "      <th>5_9_years_pct</th>\n",
       "      <th>60_64_years_pct</th>\n",
       "      <th>65_69_years_pct</th>\n",
       "      <th>70_74_years_pct</th>\n",
       "      <th>75_79_years_pct</th>\n",
       "      <th>80_84_years_pct</th>\n",
       "      <th>85+_years_pct</th>\n",
       "      <th>&lt;_1_year_pct</th>\n",
       "    </tr>\n",
       "    <tr>\n",
       "      <th>fips</th>\n",
       "      <th></th>\n",
       "      <th></th>\n",
       "      <th></th>\n",
       "      <th></th>\n",
       "      <th></th>\n",
       "      <th></th>\n",
       "      <th></th>\n",
       "      <th></th>\n",
       "      <th></th>\n",
       "      <th></th>\n",
       "      <th></th>\n",
       "      <th></th>\n",
       "      <th></th>\n",
       "      <th></th>\n",
       "      <th></th>\n",
       "      <th></th>\n",
       "      <th></th>\n",
       "      <th></th>\n",
       "      <th></th>\n",
       "    </tr>\n",
       "  </thead>\n",
       "  <tbody>\n",
       "    <tr>\n",
       "      <th>1001</th>\n",
       "      <td>7.297531</td>\n",
       "      <td>7.012415</td>\n",
       "      <td>4.626823</td>\n",
       "      <td>5.944132</td>\n",
       "      <td>6.429551</td>\n",
       "      <td>6.249098</td>\n",
       "      <td>6.440378</td>\n",
       "      <td>6.871662</td>\n",
       "      <td>7.118883</td>\n",
       "      <td>7.165800</td>\n",
       "      <td>6.804894</td>\n",
       "      <td>6.620832</td>\n",
       "      <td>5.557962</td>\n",
       "      <td>4.805471</td>\n",
       "      <td>3.847264</td>\n",
       "      <td>2.869207</td>\n",
       "      <td>1.894760</td>\n",
       "      <td>1.311895</td>\n",
       "      <td>1.131442</td>\n",
       "    </tr>\n",
       "    <tr>\n",
       "      <th>1003</th>\n",
       "      <td>6.317036</td>\n",
       "      <td>5.977091</td>\n",
       "      <td>4.493127</td>\n",
       "      <td>5.324530</td>\n",
       "      <td>5.746465</td>\n",
       "      <td>5.662558</td>\n",
       "      <td>6.010654</td>\n",
       "      <td>6.078739</td>\n",
       "      <td>6.599445</td>\n",
       "      <td>6.927403</td>\n",
       "      <td>7.201661</td>\n",
       "      <td>5.957912</td>\n",
       "      <td>6.897676</td>\n",
       "      <td>6.769178</td>\n",
       "      <td>5.161510</td>\n",
       "      <td>3.553363</td>\n",
       "      <td>2.250639</td>\n",
       "      <td>1.973504</td>\n",
       "      <td>1.097510</td>\n",
       "    </tr>\n",
       "    <tr>\n",
       "      <th>1005</th>\n",
       "      <td>5.981128</td>\n",
       "      <td>5.619103</td>\n",
       "      <td>4.251878</td>\n",
       "      <td>6.408627</td>\n",
       "      <td>7.136530</td>\n",
       "      <td>7.090314</td>\n",
       "      <td>6.227614</td>\n",
       "      <td>6.173695</td>\n",
       "      <td>6.385519</td>\n",
       "      <td>6.870788</td>\n",
       "      <td>6.339303</td>\n",
       "      <td>6.204506</td>\n",
       "      <td>6.339303</td>\n",
       "      <td>6.192952</td>\n",
       "      <td>4.698633</td>\n",
       "      <td>3.158097</td>\n",
       "      <td>2.183709</td>\n",
       "      <td>1.783170</td>\n",
       "      <td>0.955132</td>\n",
       "    </tr>\n",
       "    <tr>\n",
       "      <th>1007</th>\n",
       "      <td>5.723623</td>\n",
       "      <td>5.803118</td>\n",
       "      <td>4.469372</td>\n",
       "      <td>6.103432</td>\n",
       "      <td>7.763989</td>\n",
       "      <td>7.194276</td>\n",
       "      <td>6.712891</td>\n",
       "      <td>6.810052</td>\n",
       "      <td>7.340017</td>\n",
       "      <td>7.529921</td>\n",
       "      <td>6.518571</td>\n",
       "      <td>5.546968</td>\n",
       "      <td>5.895862</td>\n",
       "      <td>5.383562</td>\n",
       "      <td>3.833414</td>\n",
       "      <td>2.976637</td>\n",
       "      <td>1.815131</td>\n",
       "      <td>1.422073</td>\n",
       "      <td>1.157090</td>\n",
       "    </tr>\n",
       "    <tr>\n",
       "      <th>1009</th>\n",
       "      <td>6.607861</td>\n",
       "      <td>6.417233</td>\n",
       "      <td>4.663455</td>\n",
       "      <td>5.599265</td>\n",
       "      <td>5.935464</td>\n",
       "      <td>5.758700</td>\n",
       "      <td>6.138223</td>\n",
       "      <td>6.301123</td>\n",
       "      <td>6.947525</td>\n",
       "      <td>6.937127</td>\n",
       "      <td>6.711840</td>\n",
       "      <td>6.476154</td>\n",
       "      <td>6.372175</td>\n",
       "      <td>6.094898</td>\n",
       "      <td>4.737973</td>\n",
       "      <td>3.292666</td>\n",
       "      <td>2.181824</td>\n",
       "      <td>1.679260</td>\n",
       "      <td>1.147234</td>\n",
       "    </tr>\n",
       "  </tbody>\n",
       "</table>\n",
       "</div>"
      ],
      "text/plain": [
       "      10_14_years_pct  15_19_years_pct  1_4_years_pct  20_24_years_pct  \\\n",
       "fips                                                                     \n",
       "1001         7.297531         7.012415       4.626823         5.944132   \n",
       "1003         6.317036         5.977091       4.493127         5.324530   \n",
       "1005         5.981128         5.619103       4.251878         6.408627   \n",
       "1007         5.723623         5.803118       4.469372         6.103432   \n",
       "1009         6.607861         6.417233       4.663455         5.599265   \n",
       "\n",
       "      25_29_years_pct  30_34_years_pct  35_39_years_pct  40_44_years_pct  \\\n",
       "fips                                                                       \n",
       "1001         6.429551         6.249098         6.440378         6.871662   \n",
       "1003         5.746465         5.662558         6.010654         6.078739   \n",
       "1005         7.136530         7.090314         6.227614         6.173695   \n",
       "1007         7.763989         7.194276         6.712891         6.810052   \n",
       "1009         5.935464         5.758700         6.138223         6.301123   \n",
       "\n",
       "      45_49_years_pct  50_54_years_pct  55_59_years_pct  5_9_years_pct  \\\n",
       "fips                                                                     \n",
       "1001         7.118883         7.165800         6.804894       6.620832   \n",
       "1003         6.599445         6.927403         7.201661       5.957912   \n",
       "1005         6.385519         6.870788         6.339303       6.204506   \n",
       "1007         7.340017         7.529921         6.518571       5.546968   \n",
       "1009         6.947525         6.937127         6.711840       6.476154   \n",
       "\n",
       "      60_64_years_pct  65_69_years_pct  70_74_years_pct  75_79_years_pct  \\\n",
       "fips                                                                       \n",
       "1001         5.557962         4.805471         3.847264         2.869207   \n",
       "1003         6.897676         6.769178         5.161510         3.553363   \n",
       "1005         6.339303         6.192952         4.698633         3.158097   \n",
       "1007         5.895862         5.383562         3.833414         2.976637   \n",
       "1009         6.372175         6.094898         4.737973         3.292666   \n",
       "\n",
       "      80_84_years_pct  85+_years_pct  <_1_year_pct  \n",
       "fips                                                \n",
       "1001         1.894760       1.311895      1.131442  \n",
       "1003         2.250639       1.973504      1.097510  \n",
       "1005         2.183709       1.783170      0.955132  \n",
       "1007         1.815131       1.422073      1.157090  \n",
       "1009         2.181824       1.679260      1.147234  "
      ]
     },
     "execution_count": 10,
     "metadata": {},
     "output_type": "execute_result"
    }
   ],
   "source": [
    "# read in data, remove rows with notes at the bottom of the document\n",
    "county_age = pd.read_csv('https://raw.githubusercontent.com/danielhanbitlee/Springboard/master/capstone_project/data/county_age_2016.txt',\n",
    "                          delimiter = r\"[\\t]\", \n",
    "                          engine = 'python').drop(columns = ['Population', '\"Age Group\"'])\n",
    "\n",
    "# rename the columns\n",
    "county_age.columns = ['county', 'fips', 'age', 'population']\n",
    "\n",
    "county_age = county_age.dropna(how = 'any') # drop notes at the bottom of the document\n",
    "\n",
    "# remove missing population data (these counties are no longer counties)\n",
    "county_age = county_age[county_age.population != 'Missing'] \n",
    "\n",
    "# replace double quotes in dataframe\n",
    "for column in county_age.columns:\n",
    "    county_age['{}'.format(column)] = county_age['{}'.format(column)].str.replace('\"', \"\")\n",
    "    county_age['{}'.format(column)] = county_age['{}'.format(column)].str.replace('-', \"_\")\n",
    "    county_age['{}'.format(column)] = county_age['{}'.format(column)].str.replace(' ', \"_\")\n",
    "\n",
    "# convert fips and population columns to numeric\n",
    "for column in ['fips', 'population']:\n",
    "    county_age['{}'.format(column)] = pd.to_numeric(county_age['{}'.format(column)])    \n",
    "\n",
    "# pivot data so that columns are age\n",
    "county_age_pivoted = county_age.pivot(index = 'fips', \n",
    "                                              columns='age', \n",
    "                                              values='population').sort_values(by = 'fips')\n",
    "\n",
    "# calculate the total population for each county\n",
    "total_population = county_age_pivoted.sum(axis = 1)\n",
    "\n",
    "# calculate percentage of age by total population of county\n",
    "for column in county_age_pivoted.columns:\n",
    "    county_age_pivoted['{}_pct'.format(column)] = county_age_pivoted['{}'.format(column)] / \\\n",
    "                                                   total_population * 100\n",
    "\n",
    "# drop population count columns and only keep the percentages\n",
    "county_age_pct = county_age_pivoted.drop(columns = [column for column in county_age_pivoted.columns if 'pct' not in column])\n",
    "\n",
    "# replace double underline in column names for county_age_pct df\n",
    "county_age_pct.columns = [column.replace('__', '_') if'__' in column else column for column in county_age_pct.columns]\n",
    "\n",
    "county_age_pct.head()"
   ]
  },
  {
   "cell_type": "markdown",
   "metadata": {},
   "source": [
    "## 10. Merge All the Datasets Together"
   ]
  },
  {
   "cell_type": "code",
   "execution_count": 289,
   "metadata": {},
   "outputs": [],
   "source": [
    "# merge all the data sets together and drop redundant columns\n",
    "\n",
    "# merge opioid death rate and overall death rate\n",
    "death_rates_combined = pd.merge(death_rates, overall_death_rate, on = ['county', 'fips_code', 'population']).\\\n",
    "                                                                        drop(['deaths_x', 'deaths_y'], axis = 1)\n",
    "\n",
    "# merge above to prescription rates\n",
    "death_prescribe = pd.merge(death_rates_combined, prescription_rates_no_na, left_on = 'fips_code', right_on = 'county_code').\\\n",
    "                                                                                    drop(['county_x', 'county_code'], axis = 1)\n",
    "\n",
    "# merge above to poverty data\n",
    "dpp = pd.merge(death_prescribe, poverty_no_na, left_on = 'fips_code', right_on = 'FIPStxt').drop(['FIPStxt', 'Area_Name'],\\\n",
    "                                                                                                                 axis = 1)\n",
    "\n",
    "# merge above to population estimates data\n",
    "dppp = pd.merge(dpp, pop_2016_no_na, left_on = 'fips_code', right_on = 'FIPS').drop(['State_x', 'FIPS', 'State_y', 'Area_Name'],\\\n",
    "                                                                                                                        axis = 1)\n",
    "\n",
    "# merge above to education data\n",
    "dpppe = pd.merge(dppp, education_no_na, left_on = 'fips_code', right_on = 'FIPS Code').drop(['FIPS Code', 'State', 'Area name'],\\\n",
    "                                                                                                                        axis = 1)\n",
    "\n",
    "# merge above to unemployment data\n",
    "dpppe_unemployment = pd.merge(dpppe, unemployment_no_na, left_on = 'fips_code', right_on = 'FIPStxt').\\\n",
    "                                                            drop(['FIPStxt', 'State', 'Area_name'], axis = 1)\n",
    "\n",
    "# calculate mortality rate excluding deaths caused by opioid - mortality_rate_excluding_opioid\n",
    "dpppe_unemployment['mortality_rate_excluding_opioid'] = dpppe_unemployment.crude_mortality_rate_all_causes -\\\n",
    "                                                 dpppe_unemployment.crude_opioid_mortality_rate\n",
    "\n",
    "# merge race pct data\n",
    "dpppe_unemployment_race = pd.merge(dpppe_unemployment, county_race_pct, left_on = 'fips_code', right_on = 'fips')\n",
    "\n",
    "# merge age pct data\n",
    "merged_data = pd.merge(dpppe_unemployment_race, county_age_pct, left_on = 'fips_code', right_on = 'fips')\n",
    "\n",
    "# remove the redundant state information from the county_y column and create a new column county\n",
    "merged_data['county'] = merged_data.county_y.str.partition(',')[0]\n",
    "\n",
    "# remove columns representing confidence intervals\n",
    "merged_data = merged_data.loc[:, [column for column in merged_data.columns if 'CI' not in column]]\n",
    "\n",
    "# rename column names\n",
    "merged_data.columns = pd.Series(merged_data.columns).str.lower()\\\n",
    "                                                    .str.replace(' ', '_')\\\n",
    "                                                    .str.replace(',','')\\\n",
    "                                                    .str.replace(\"'s\", \"\")\\\n",
    "                                                    .str.replace('percent', '%')\\\n",
    "                                                    .str.replace('pct', '%')\\\n",
    "                                                    .str.replace('_of_adults', '')\\\n",
    "                                                    .str.replace('completing_', '')\\\n",
    "                                                    .str.replace('_with_', '_')\\\n",
    "                                                    .str.replace('_a_', '_')\\\n",
    "                                                    .str.replace('n_pop_chg_2016', 'pop_chg_2016')\\\n",
    "                                                    .str.replace('%p', '%_p')\\\n",
    "                                                    .str.replace('<', 'less_than')\n",
    "merged_data.columns = pd.Series(merged_data.columns).apply(lambda x: re.sub(r\"^r_\", \"rate_\", x)).tolist()\n",
    "\n",
    "# remove poverty columns with overlapping information\n",
    "merged_data = merged_data.loc[:, [column for column in merged_data.columns if 'pov' not in column or column == '%_povall_2016']]\n",
    "\n",
    "# remove columns with education total count data (as opposed to percentage data) as well as other redundant education columns\n",
    "merged_data = merged_data.drop(columns=['bachelor_degree_or_higher_2012-2016',\n",
    "                                        'high_school_diploma_only_2012-2016',\n",
    "                                        'less_than_high_school_diploma_2012-2016',\n",
    "                                        'some_college_or_associate_degree_2012-2016',\n",
    "                                        '%_bachelor_degree_or_higher_2012-2016',\n",
    "                                        '%_less_than_high_school_diploma_2012-2016',\n",
    "                                        '%_some_college_or_associate_degree_2012-2016'])\n",
    "\n",
    "# remove other unnecessary columns\n",
    "merged_data = merged_data.drop(columns=['unemployed_2016',\n",
    "                                        'births_2016', \n",
    "                                        'deaths_2016', \n",
    "                                        'domestic_mig_2016',\n",
    "                                        'international_mig_2016',\n",
    "                                        'med_hh_income_%_of_state_total_2016',\n",
    "                                        'natural_inc_2016',\n",
    "                                        'net_mig_2016',\n",
    "                                        'residual_2016',\n",
    "                                        'rate_natural_inc_2016',\n",
    "                                        'rate_net_mig_2016',\n",
    "                                        'civilian_labor_force_2016',\n",
    "                                        'employed_2016',\n",
    "                                        'medhhinc_2016',\n",
    "                                        'pop_estimate_2016',\n",
    "                                        'county_y',\n",
    "                                        'rate_death_2016'])\n",
    "\n",
    "# drop crude_mortality_rate_all_causes column\n",
    "merged_data = merged_data.drop(labels = 'crude_mortality_rate_all_causes', axis = 1)"
   ]
  },
  {
   "cell_type": "code",
   "execution_count": 290,
   "metadata": {},
   "outputs": [
    {
     "name": "stdout",
     "output_type": "stream",
     "text": [
      "<class 'pandas.core.frame.DataFrame'>\n",
      "Int64Index: 2962 entries, 0 to 2961\n",
      "Data columns (total 39 columns):\n",
      "fips_code                               2962 non-null int64\n",
      "population                              2962 non-null float64\n",
      "crude_opioid_mortality_rate             2962 non-null float64\n",
      "state                                   2962 non-null object\n",
      "opioid_prescription_rate                2962 non-null float64\n",
      "%_povall_2016                           2962 non-null float64\n",
      "pop_chg_2016                            2962 non-null float64\n",
      "gq_estimates_2016                       2962 non-null float64\n",
      "rate_birth_2016                         2962 non-null float64\n",
      "rate_international_mig_2016             2962 non-null float64\n",
      "rate_domestic_mig_2016                  2962 non-null float64\n",
      "%_high_school_diploma_only_2012-2016    2962 non-null float64\n",
      "unemployment_rate_2016                  2962 non-null float64\n",
      "median_household_income_2016            2962 non-null float64\n",
      "mortality_rate_excluding_opioid         2962 non-null float64\n",
      "american_indian_or_alaska_native_%      2962 non-null float64\n",
      "asian_or_pacific_islander_%             2962 non-null float64\n",
      "black_or_african_american_%             2962 non-null float64\n",
      "white_%                                 2962 non-null float64\n",
      "10_14_years_%                           2962 non-null float64\n",
      "15_19_years_%                           2962 non-null float64\n",
      "1_4_years_%                             2962 non-null float64\n",
      "20_24_years_%                           2962 non-null float64\n",
      "25_29_years_%                           2962 non-null float64\n",
      "30_34_years_%                           2962 non-null float64\n",
      "35_39_years_%                           2962 non-null float64\n",
      "40_44_years_%                           2962 non-null float64\n",
      "45_49_years_%                           2962 non-null float64\n",
      "50_54_years_%                           2962 non-null float64\n",
      "55_59_years_%                           2962 non-null float64\n",
      "5_9_years_%                             2962 non-null float64\n",
      "60_64_years__%                          2962 non-null float64\n",
      "65_69_years_%                           2962 non-null float64\n",
      "70_74_years_%                           2962 non-null float64\n",
      "75_79_years_%                           2962 non-null float64\n",
      "80_84_years_%                           2962 non-null float64\n",
      "85+_years_%                             2962 non-null float64\n",
      "less_than_1_year_%                      2962 non-null float64\n",
      "county                                  2962 non-null object\n",
      "dtypes: float64(36), int64(1), object(2)\n",
      "memory usage: 925.6+ KB\n"
     ]
    }
   ],
   "source": [
    "merged_data.info()"
   ]
  },
  {
   "cell_type": "code",
   "execution_count": 291,
   "metadata": {},
   "outputs": [
    {
     "data": {
      "text/html": [
       "<div>\n",
       "<style scoped>\n",
       "    .dataframe tbody tr th:only-of-type {\n",
       "        vertical-align: middle;\n",
       "    }\n",
       "\n",
       "    .dataframe tbody tr th {\n",
       "        vertical-align: top;\n",
       "    }\n",
       "\n",
       "    .dataframe thead th {\n",
       "        text-align: right;\n",
       "    }\n",
       "</style>\n",
       "<table border=\"1\" class=\"dataframe\">\n",
       "  <thead>\n",
       "    <tr style=\"text-align: right;\">\n",
       "      <th></th>\n",
       "      <th>fips_code</th>\n",
       "      <th>population</th>\n",
       "      <th>crude_opioid_mortality_rate</th>\n",
       "      <th>state</th>\n",
       "      <th>opioid_prescription_rate</th>\n",
       "      <th>%_povall_2016</th>\n",
       "      <th>pop_chg_2016</th>\n",
       "      <th>gq_estimates_2016</th>\n",
       "      <th>rate_birth_2016</th>\n",
       "      <th>rate_international_mig_2016</th>\n",
       "      <th>...</th>\n",
       "      <th>55_59_years_%</th>\n",
       "      <th>5_9_years_%</th>\n",
       "      <th>60_64_years__%</th>\n",
       "      <th>65_69_years_%</th>\n",
       "      <th>70_74_years_%</th>\n",
       "      <th>75_79_years_%</th>\n",
       "      <th>80_84_years_%</th>\n",
       "      <th>85+_years_%</th>\n",
       "      <th>less_than_1_year_%</th>\n",
       "      <th>county</th>\n",
       "    </tr>\n",
       "  </thead>\n",
       "  <tbody>\n",
       "    <tr>\n",
       "      <th>0</th>\n",
       "      <td>1001</td>\n",
       "      <td>55416.0</td>\n",
       "      <td>0.0</td>\n",
       "      <td>AL</td>\n",
       "      <td>129.6</td>\n",
       "      <td>14.0</td>\n",
       "      <td>440.0</td>\n",
       "      <td>455.0</td>\n",
       "      <td>12.096335</td>\n",
       "      <td>0.272440</td>\n",
       "      <td>...</td>\n",
       "      <td>6.804894</td>\n",
       "      <td>6.620832</td>\n",
       "      <td>5.557962</td>\n",
       "      <td>4.805471</td>\n",
       "      <td>3.847264</td>\n",
       "      <td>2.869207</td>\n",
       "      <td>1.894760</td>\n",
       "      <td>1.311895</td>\n",
       "      <td>1.131442</td>\n",
       "      <td>Autauga</td>\n",
       "    </tr>\n",
       "    <tr>\n",
       "      <th>1</th>\n",
       "      <td>1003</td>\n",
       "      <td>208563.0</td>\n",
       "      <td>8.6</td>\n",
       "      <td>AL</td>\n",
       "      <td>123.8</td>\n",
       "      <td>12.0</td>\n",
       "      <td>4646.0</td>\n",
       "      <td>2275.0</td>\n",
       "      <td>11.267825</td>\n",
       "      <td>0.823643</td>\n",
       "      <td>...</td>\n",
       "      <td>7.201661</td>\n",
       "      <td>5.957912</td>\n",
       "      <td>6.897676</td>\n",
       "      <td>6.769178</td>\n",
       "      <td>5.161510</td>\n",
       "      <td>3.553363</td>\n",
       "      <td>2.250639</td>\n",
       "      <td>1.973504</td>\n",
       "      <td>1.097510</td>\n",
       "      <td>Baldwin</td>\n",
       "    </tr>\n",
       "    <tr>\n",
       "      <th>2</th>\n",
       "      <td>1005</td>\n",
       "      <td>25965.0</td>\n",
       "      <td>0.0</td>\n",
       "      <td>AL</td>\n",
       "      <td>92.7</td>\n",
       "      <td>30.0</td>\n",
       "      <td>-490.0</td>\n",
       "      <td>2977.0</td>\n",
       "      <td>10.453899</td>\n",
       "      <td>-0.192167</td>\n",
       "      <td>...</td>\n",
       "      <td>6.339303</td>\n",
       "      <td>6.204506</td>\n",
       "      <td>6.339303</td>\n",
       "      <td>6.192952</td>\n",
       "      <td>4.698633</td>\n",
       "      <td>3.158097</td>\n",
       "      <td>2.183709</td>\n",
       "      <td>1.783170</td>\n",
       "      <td>0.955132</td>\n",
       "      <td>Barbour</td>\n",
       "    </tr>\n",
       "    <tr>\n",
       "      <th>3</th>\n",
       "      <td>1007</td>\n",
       "      <td>22643.0</td>\n",
       "      <td>0.0</td>\n",
       "      <td>AL</td>\n",
       "      <td>97.2</td>\n",
       "      <td>20.0</td>\n",
       "      <td>72.0</td>\n",
       "      <td>2201.0</td>\n",
       "      <td>12.833562</td>\n",
       "      <td>0.885073</td>\n",
       "      <td>...</td>\n",
       "      <td>6.518571</td>\n",
       "      <td>5.546968</td>\n",
       "      <td>5.895862</td>\n",
       "      <td>5.383562</td>\n",
       "      <td>3.833414</td>\n",
       "      <td>2.976637</td>\n",
       "      <td>1.815131</td>\n",
       "      <td>1.422073</td>\n",
       "      <td>1.157090</td>\n",
       "      <td>Bibb</td>\n",
       "    </tr>\n",
       "    <tr>\n",
       "      <th>4</th>\n",
       "      <td>1009</td>\n",
       "      <td>57704.0</td>\n",
       "      <td>0.0</td>\n",
       "      <td>AL</td>\n",
       "      <td>56.9</td>\n",
       "      <td>14.0</td>\n",
       "      <td>-28.0</td>\n",
       "      <td>489.0</td>\n",
       "      <td>11.723635</td>\n",
       "      <td>1.076838</td>\n",
       "      <td>...</td>\n",
       "      <td>6.711840</td>\n",
       "      <td>6.476154</td>\n",
       "      <td>6.372175</td>\n",
       "      <td>6.094898</td>\n",
       "      <td>4.737973</td>\n",
       "      <td>3.292666</td>\n",
       "      <td>2.181824</td>\n",
       "      <td>1.679260</td>\n",
       "      <td>1.147234</td>\n",
       "      <td>Blount</td>\n",
       "    </tr>\n",
       "  </tbody>\n",
       "</table>\n",
       "<p>5 rows × 39 columns</p>\n",
       "</div>"
      ],
      "text/plain": [
       "   fips_code  population  crude_opioid_mortality_rate state  \\\n",
       "0       1001     55416.0                          0.0    AL   \n",
       "1       1003    208563.0                          8.6    AL   \n",
       "2       1005     25965.0                          0.0    AL   \n",
       "3       1007     22643.0                          0.0    AL   \n",
       "4       1009     57704.0                          0.0    AL   \n",
       "\n",
       "   opioid_prescription_rate  %_povall_2016  pop_chg_2016  gq_estimates_2016  \\\n",
       "0                     129.6           14.0         440.0              455.0   \n",
       "1                     123.8           12.0        4646.0             2275.0   \n",
       "2                      92.7           30.0        -490.0             2977.0   \n",
       "3                      97.2           20.0          72.0             2201.0   \n",
       "4                      56.9           14.0         -28.0              489.0   \n",
       "\n",
       "   rate_birth_2016  rate_international_mig_2016   ...     55_59_years_%  \\\n",
       "0        12.096335                     0.272440   ...          6.804894   \n",
       "1        11.267825                     0.823643   ...          7.201661   \n",
       "2        10.453899                    -0.192167   ...          6.339303   \n",
       "3        12.833562                     0.885073   ...          6.518571   \n",
       "4        11.723635                     1.076838   ...          6.711840   \n",
       "\n",
       "   5_9_years_%  60_64_years__%  65_69_years_%  70_74_years_%  75_79_years_%  \\\n",
       "0     6.620832        5.557962       4.805471       3.847264       2.869207   \n",
       "1     5.957912        6.897676       6.769178       5.161510       3.553363   \n",
       "2     6.204506        6.339303       6.192952       4.698633       3.158097   \n",
       "3     5.546968        5.895862       5.383562       3.833414       2.976637   \n",
       "4     6.476154        6.372175       6.094898       4.737973       3.292666   \n",
       "\n",
       "   80_84_years_%  85+_years_%  less_than_1_year_%   county  \n",
       "0       1.894760     1.311895            1.131442  Autauga  \n",
       "1       2.250639     1.973504            1.097510  Baldwin  \n",
       "2       2.183709     1.783170            0.955132  Barbour  \n",
       "3       1.815131     1.422073            1.157090     Bibb  \n",
       "4       2.181824     1.679260            1.147234   Blount  \n",
       "\n",
       "[5 rows x 39 columns]"
      ]
     },
     "execution_count": 291,
     "metadata": {},
     "output_type": "execute_result"
    }
   ],
   "source": [
    "merged_data.head()"
   ]
  },
  {
   "cell_type": "code",
   "execution_count": 292,
   "metadata": {},
   "outputs": [],
   "source": [
    "# write a csv file of the merged data\n",
    "merged_data.to_csv('merged_data.csv', index = False)"
   ]
  },
  {
   "cell_type": "markdown",
   "metadata": {},
   "source": [
    "## 11. Mortality Rates from Opioid Overdose 1999 - 2016"
   ]
  },
  {
   "cell_type": "markdown",
   "metadata": {},
   "source": [
    "Here, I obtain dataset containing mortality rates and death numbers due to opioid overdose from 1999 to 2016. This data is not divided by counties. However, it includes columns that contain age-group, ethnicity, and gender. This data will be used primarily for visualization purposes. The data is obtained from the CDC website. The saved query can be found in this link: https://wonder.cdc.gov/controller/saved/D77/D39F124. I also posted this dataset on github for easy access: https://raw.githubusercontent.com/danielhanbitlee/Springboard/master/capstone_project/data/Opioid%20Overdose%20Deaths.txt "
   ]
  },
  {
   "cell_type": "code",
   "execution_count": 55,
   "metadata": {},
   "outputs": [
    {
     "name": "stdout",
     "output_type": "stream",
     "text": [
      "<class 'pandas.core.frame.DataFrame'>\n",
      "Int64Index: 1728 entries, 0 to 1880\n",
      "Data columns (total 12 columns):\n",
      "Ten-Year Age Groups         1728 non-null object\n",
      "Ten-Year Age Groups Code    1728 non-null object\n",
      "Race                        1728 non-null object\n",
      "Race Code                   1728 non-null object\n",
      "Gender                      1728 non-null object\n",
      "Gender Code                 1728 non-null object\n",
      "Year                        1728 non-null int64\n",
      "Year Code                   1728 non-null float64\n",
      "Deaths                      1728 non-null float64\n",
      "Population                  1728 non-null object\n",
      "Crude Rate                  1728 non-null object\n",
      "ten_year_groups_relabel     1728 non-null object\n",
      "dtypes: float64(2), int64(1), object(9)\n",
      "memory usage: 175.5+ KB\n"
     ]
    }
   ],
   "source": [
    "# read data in as csv\n",
    "opioid_deaths = pd.read_csv(\\\n",
    "    'https://raw.githubusercontent.com/danielhanbitlee/Springboard/master/capstone_project/data/Opioid%20Overdose%20Deaths.txt',\\\n",
    "                            delimiter = '\\t')\n",
    "\n",
    "# relabel year-group categories\n",
    "opioid_deaths['ten_year_groups_relabel'] = opioid_deaths['Ten-Year Age Groups Code'].\\\n",
    "                    apply(lambda x: (type(x) == str and len(str(x)) < 5 and x != 'NS' and x != '85+' and '0' + str(x)) or x)\n",
    "\n",
    "# remove confidence interval columns\n",
    "opioid_deaths = opioid_deaths.drop(list(opioid_deaths.columns[opioid_deaths.columns.str.contains('Confidence')]), axis = 1)\n",
    "\n",
    "# remove notes column\n",
    "opioid_deaths = opioid_deaths.drop('Notes', axis = 1)\n",
    "\n",
    "# drop null values in this data\n",
    "opioid_deaths = opioid_deaths.dropna()\n",
    "\n",
    "# convert year column to integer\n",
    "opioid_deaths.Year = opioid_deaths['Year'].map(lambda x: int(x))\n",
    "\n",
    "opioid_deaths.info()"
   ]
  },
  {
   "cell_type": "code",
   "execution_count": 56,
   "metadata": {},
   "outputs": [],
   "source": [
    "# save the dataframe as opioid_deaths.csv\n",
    "opioid_deaths.to_csv('opioid_deaths.csv', index = None)"
   ]
  }
 ],
 "metadata": {
  "kernelspec": {
   "display_name": "Python 3",
   "language": "python",
   "name": "python3"
  },
  "language_info": {
   "codemirror_mode": {
    "name": "ipython",
    "version": 3
   },
   "file_extension": ".py",
   "mimetype": "text/x-python",
   "name": "python",
   "nbconvert_exporter": "python",
   "pygments_lexer": "ipython3",
   "version": "3.6.5"
  }
 },
 "nbformat": 4,
 "nbformat_minor": 2
}
